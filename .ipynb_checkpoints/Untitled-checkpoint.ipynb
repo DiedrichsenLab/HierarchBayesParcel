{
 "cells": [
  {
   "cell_type": "code",
   "execution_count": 2,
   "id": "ccad21a3",
   "metadata": {},
   "outputs": [],
   "source": [
    "# Preliminaries \n",
    "import os # to handle path information\n",
    "import nibabel as nb\n",
    "import numpy as np\n",
    "import h5py\n",
    "import pandas as pd\n",
    "import surfAnalysisPy as surf\n",
    "import matplotlib.pyplot as plt\n",
    "\n",
    "return_subjs = np.array([2,3,4,6,8,9,10,12,14,15,17,18,19,20,21,22,24,25,26,27,28,29,30,31])\n",
    "\n",
    "baseDir = '/Volumes/diedrichsen_data$/data/super_cerebellum'\n",
    "surfDir = baseDir + '/sc1/surfaceWB'\n",
    "\n",
    "hem = ['L','R']\n",
    "hem_name = ['CortexLeft','CortexRight']\n"
   ]
  },
  {
   "cell_type": "code",
   "execution_count": 5,
   "id": "1e662307",
   "metadata": {},
   "outputs": [],
   "source": [
    "flatsurf = []\n",
    "inflsurf = [] \n",
    "\n",
    "for h,hemN in enumerate(hem):\n",
    "    flatname = os.path.join(surfDir,'group32k','fs_LR.32k.' + hemN + '.flat.surf.gii')\n",
    "    inflname = os.path.join(surfDir,'group32k','fs_LR.32k.' + hemN + '.inflated.surf.gii')\n",
    "    flatsurf.append(nb.load(flatname))\n",
    "    inflsurf.append(nb.load(flatname))\n",
    "    "
   ]
  },
  {
   "cell_type": "code",
   "execution_count": 6,
   "id": "8d0c91e0",
   "metadata": {},
   "outputs": [],
   "source": [
    "# Plot s02 task maps \n",
    "subj = 's02'\n",
    "taskmap = []\n",
    "for h,hemN in enumerate(hem):\n",
    "    name = os.path.join(surfDir,'glm7',subj,subj + '.' + hemN + '.sc1.wcon.func.gii')\n",
    "    taskmap.append(nb.load(name))"
   ]
  },
  {
   "cell_type": "code",
   "execution_count": 13,
   "id": "c489448a",
   "metadata": {},
   "outputs": [],
   "source": [
    "# Load the task maps and center \n",
    "YL = np.vstack(taskmap[0].agg_data())\n",
    "YR = np.vstack(taskmap[1].agg_data())\n",
    "YL = YL-YL.mean(axis=0)\n",
    "YR = YR-YR.mean(axis=0)"
   ]
  },
  {
   "cell_type": "code",
   "execution_count": 14,
   "id": "2a7fdcd4",
   "metadata": {},
   "outputs": [
    {
     "ename": "NameError",
     "evalue": "name 'plt' is not defined",
     "output_type": "error",
     "traceback": [
      "\u001b[0;31m---------------------------------------------------------------------------\u001b[0m",
      "\u001b[0;31mNameError\u001b[0m                                 Traceback (most recent call last)",
      "\u001b[0;32m<ipython-input-14-0bb9b98a9474>\u001b[0m in \u001b[0;36m<module>\u001b[0;34m\u001b[0m\n\u001b[1;32m      1\u001b[0m \u001b[0;31m# Plot the task maps\u001b[0m\u001b[0;34m\u001b[0m\u001b[0;34m\u001b[0m\u001b[0;34m\u001b[0m\u001b[0m\n\u001b[0;32m----> 2\u001b[0;31m \u001b[0mfig\u001b[0m \u001b[0;34m=\u001b[0m \u001b[0mplt\u001b[0m\u001b[0;34m.\u001b[0m\u001b[0mfigure\u001b[0m\u001b[0;34m(\u001b[0m\u001b[0mfigsize\u001b[0m\u001b[0;34m=\u001b[0m\u001b[0;34m(\u001b[0m\u001b[0;36m8\u001b[0m\u001b[0;34m,\u001b[0m\u001b[0;36m3\u001b[0m\u001b[0;34m)\u001b[0m\u001b[0;34m)\u001b[0m\u001b[0;34m\u001b[0m\u001b[0;34m\u001b[0m\u001b[0m\n\u001b[0m\u001b[1;32m      3\u001b[0m \u001b[0max1\u001b[0m \u001b[0;34m=\u001b[0m \u001b[0mplt\u001b[0m\u001b[0;34m.\u001b[0m\u001b[0msubplot\u001b[0m\u001b[0;34m(\u001b[0m\u001b[0;36m1\u001b[0m\u001b[0;34m,\u001b[0m\u001b[0;36m2\u001b[0m\u001b[0;34m,\u001b[0m\u001b[0;36m1\u001b[0m\u001b[0;34m)\u001b[0m\u001b[0;34m\u001b[0m\u001b[0;34m\u001b[0m\u001b[0m\n\u001b[1;32m      4\u001b[0m \u001b[0max2\u001b[0m \u001b[0;34m=\u001b[0m \u001b[0msurf\u001b[0m\u001b[0;34m.\u001b[0m\u001b[0mplot\u001b[0m\u001b[0;34m.\u001b[0m\u001b[0mplotmap\u001b[0m\u001b[0;34m(\u001b[0m\u001b[0mYL\u001b[0m\u001b[0;34m[\u001b[0m\u001b[0;36m0\u001b[0m\u001b[0;34m,\u001b[0m\u001b[0;34m:\u001b[0m\u001b[0;34m]\u001b[0m\u001b[0;34m,\u001b[0m\u001b[0mflatsurf\u001b[0m\u001b[0;34m[\u001b[0m\u001b[0;36m0\u001b[0m\u001b[0;34m]\u001b[0m\u001b[0;34m,\u001b[0m\u001b[0mcscale\u001b[0m \u001b[0;34m=\u001b[0m \u001b[0;34m[\u001b[0m\u001b[0;34m-\u001b[0m\u001b[0;36m3\u001b[0m\u001b[0;34m,\u001b[0m\u001b[0;36m3\u001b[0m\u001b[0;34m]\u001b[0m\u001b[0;34m)\u001b[0m\u001b[0;34m\u001b[0m\u001b[0;34m\u001b[0m\u001b[0m\n\u001b[1;32m      5\u001b[0m \u001b[0max3\u001b[0m \u001b[0;34m=\u001b[0m \u001b[0mplt\u001b[0m\u001b[0;34m.\u001b[0m\u001b[0msubplot\u001b[0m\u001b[0;34m(\u001b[0m\u001b[0;36m1\u001b[0m\u001b[0;34m,\u001b[0m\u001b[0;36m2\u001b[0m\u001b[0;34m,\u001b[0m\u001b[0;36m2\u001b[0m\u001b[0;34m)\u001b[0m\u001b[0;34m\u001b[0m\u001b[0;34m\u001b[0m\u001b[0m\n",
      "\u001b[0;31mNameError\u001b[0m: name 'plt' is not defined"
     ]
    }
   ],
   "source": [
    "# Plot the task maps\n",
    "fig = plt.figure(figsize=(8,3))\n",
    "ax1 = plt.subplot(1,2,1)\n",
    "ax2 = surf.plot.plotmap(YL[0,:],flatsurf[0],cscale = [-3,3])\n",
    "ax3 = plt.subplot(1,2,2)\n",
    "ax4 = surf.plot.plotmap(YR[0,:],flatsurf[1],cscale = [-3,3])\n",
    "plt.show()"
   ]
  },
  {
   "cell_type": "code",
   "execution_count": 8,
   "id": "318eb29e",
   "metadata": {
    "scrolled": true
   },
   "outputs": [
    {
     "data": {
      "text/plain": [
       "<nibabel.gifti.gifti.GiftiImage at 0x103466b50>"
      ]
     },
     "execution_count": 8,
     "metadata": {},
     "output_type": "execute_result"
    }
   ],
   "source": [
    "taskmap[0]"
   ]
  },
  {
   "cell_type": "code",
   "execution_count": null,
   "id": "adca8af6",
   "metadata": {},
   "outputs": [],
   "source": []
  }
 ],
 "metadata": {
  "kernelspec": {
   "display_name": "Python 3",
   "language": "python",
   "name": "python3"
  },
  "language_info": {
   "codemirror_mode": {
    "name": "ipython",
    "version": 3
   },
   "file_extension": ".py",
   "mimetype": "text/x-python",
   "name": "python",
   "nbconvert_exporter": "python",
   "pygments_lexer": "ipython3",
   "version": "3.8.5"
  }
 },
 "nbformat": 4,
 "nbformat_minor": 5
}
