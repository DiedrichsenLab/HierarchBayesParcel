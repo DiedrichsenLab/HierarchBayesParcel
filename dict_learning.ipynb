{
 "cells": [
  {
   "cell_type": "code",
   "execution_count": 1,
   "id": "4f926d2b",
   "metadata": {},
   "outputs": [],
   "source": [
    "# Preliminaries \n",
    "from mdtb_neocortical import *\n",
    "from sklearn.decomposition import dict_learning, sparse_encode\n",
    "import ipywidgets as widgets       # interactive display\n",
    "%config InlineBackend.figure_format = 'svg' # other available formats are: 'retina', 'png', 'jpeg', 'pdf'\n"
   ]
  },
  {
   "cell_type": "markdown",
   "id": "c37cdd2c",
   "metadata": {},
   "source": [
    "## Quick toy example to test the algorithm\n",
    "Toy example with U ~ Gamma(1,1)"
   ]
  },
  {
   "cell_type": "code",
   "execution_count": 2,
   "id": "d6dac2c8",
   "metadata": {},
   "outputs": [],
   "source": [
    "# Dictonary learning: Toy example with V~normal, U ~ Gamma(2,0.3), Y = UV + eps \n",
    "K = 5 \n",
    "N = 20 \n",
    "P = 100 \n",
    "eps = 1\n",
    "alpha = 2\n",
    "beta = 0.3\n",
    "\n",
    "def random_V(K,N):\n",
    "    V = np.random.normal(0,1,(K,N))\n",
    "    V = V - V.mean(axis=1).reshape(-1,1)\n",
    "    V = V / np.sqrt(np.sum(V**2,axis=1).reshape(-1,1))\n",
    "    return V\n",
    "\n",
    "V = random_V(K,N)\n",
    "U = np.random.gamma(alpha,beta,(P,K))\n",
    "Y = U @ V + np.random.normal(0,eps/np.sqrt(N),(P,N)) #"
   ]
  },
  {
   "cell_type": "code",
   "execution_count": 40,
   "id": "ef174004",
   "metadata": {},
   "outputs": [],
   "source": [
    "# Start the optimization from different starting values to test convergence and local minima \n",
    "num=10\n",
    "Uhat = np.empty((num,P,K))\n",
    "Vhat = np.empty((num,K,N))\n",
    "for i in range(num):\n",
    "    # Determine random starting value \n",
    "    V_init = random_V(K,N)\n",
    "    U_init = sparse_encode(Y,V_init,alpha=1,algorithm='lasso_cd')\n",
    "    Uhat[i,:,:],Vhat[i,:,:],errors = dict_learning (Y,alpha = 1, n_components=5, method='cd',random_state=i,positive_code=True,code_init=U_init, dict_init=V_init)"
   ]
  },
  {
   "cell_type": "code",
   "execution_count": 41,
   "id": "752617b8",
   "metadata": {},
   "outputs": [
    {
     "data": {
      "text/plain": [
       "<matplotlib.image.AxesImage at 0x128b745b0>"
      ]
     },
     "execution_count": 41,
     "metadata": {},
     "output_type": "execute_result"
    },
    {
     "data": {
      "image/svg+xml": "<?xml version=\"1.0\" encoding=\"utf-8\" standalone=\"no\"?>\n<!DOCTYPE svg PUBLIC \"-//W3C//DTD SVG 1.1//EN\"\n  \"http://www.w3.org/Graphics/SVG/1.1/DTD/svg11.dtd\">\n<svg height=\"302.878125pt\" version=\"1.1\" viewBox=\"0 0 697.3625 302.878125\" width=\"697.3625pt\" xmlns=\"http://www.w3.org/2000/svg\" xmlns:xlink=\"http://www.w3.org/1999/xlink\">\n <metadata>\n  <rdf:RDF xmlns:cc=\"http://creativecommons.org/ns#\" xmlns:dc=\"http://purl.org/dc/elements/1.1/\" xmlns:rdf=\"http://www.w3.org/1999/02/22-rdf-syntax-ns#\">\n   <cc:Work>\n    <dc:type rdf:resource=\"http://purl.org/dc/dcmitype/StillImage\"/>\n    <dc:date>2021-09-10T16:07:25.072279</dc:date>\n    <dc:format>image/svg+xml</dc:format>\n    <dc:creator>\n     <cc:Agent>\n      <dc:title>Matplotlib v3.4.2, https://matplotlib.org/</dc:title>\n     </cc:Agent>\n    </dc:creator>\n   </cc:Work>\n  </rdf:RDF>\n </metadata>\n <defs>\n  <style type=\"text/css\">*{stroke-linecap:butt;stroke-linejoin:round;}</style>\n </defs>\n <g id=\"figure_1\">\n  <g id=\"patch_1\">\n   <path d=\"M 0 302.878125 \nL 697.3625 302.878125 \nL 697.3625 0 \nL 0 0 \nz\n\" style=\"fill:none;\"/>\n  </g>\n  <g id=\"axes_1\">\n   <g id=\"patch_2\">\n    <path d=\"M 20.5625 130.745455 \nL 324.926136 130.745455 \nL 324.926136 7.2 \nL 20.5625 7.2 \nz\n\" style=\"fill:#ffffff;\"/>\n   </g>\n   <g clip-path=\"url(#p67ea488fa4)\">\n    <image height=\"124\" id=\"image32be41a360\" transform=\"scale(1 -1)translate(0 -124)\" width=\"305\" x=\"20.5625\" xlink:href=\"data:image/png;base64,\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\" y=\"-6.745455\"/>\n   </g>\n   <g id=\"matplotlib.axis_1\">\n    <g id=\"xtick_1\">\n     <g id=\"line2d_1\">\n      <defs>\n       <path d=\"M 0 0 \nL 0 3.5 \n\" id=\"mcd71158867\" style=\"stroke:#000000;stroke-width:0.8;\"/>\n      </defs>\n      <g>\n       <use style=\"stroke:#000000;stroke-width:0.8;\" x=\"22.084318\" xlink:href=\"#mcd71158867\" y=\"130.745455\"/>\n      </g>\n     </g>\n     <g id=\"text_1\">\n      <!-- 0 -->\n      <g transform=\"translate(18.903068 145.343892)scale(0.1 -0.1)\">\n       <defs>\n        <path d=\"M 2034 4250 \nQ 1547 4250 1301 3770 \nQ 1056 3291 1056 2328 \nQ 1056 1369 1301 889 \nQ 1547 409 2034 409 \nQ 2525 409 2770 889 \nQ 3016 1369 3016 2328 \nQ 3016 3291 2770 3770 \nQ 2525 4250 2034 4250 \nz\nM 2034 4750 \nQ 2819 4750 3233 4129 \nQ 3647 3509 3647 2328 \nQ 3647 1150 3233 529 \nQ 2819 -91 2034 -91 \nQ 1250 -91 836 529 \nQ 422 1150 422 2328 \nQ 422 3509 836 4129 \nQ 1250 4750 2034 4750 \nz\n\" id=\"DejaVuSans-30\" transform=\"scale(0.015625)\"/>\n       </defs>\n       <use xlink:href=\"#DejaVuSans-30\"/>\n      </g>\n     </g>\n    </g>\n    <g id=\"xtick_2\">\n     <g id=\"line2d_2\">\n      <g>\n       <use style=\"stroke:#000000;stroke-width:0.8;\" x=\"82.957045\" xlink:href=\"#mcd71158867\" y=\"130.745455\"/>\n      </g>\n     </g>\n     <g id=\"text_2\">\n      <!-- 20 -->\n      <g transform=\"translate(76.594545 145.343892)scale(0.1 -0.1)\">\n       <defs>\n        <path d=\"M 1228 531 \nL 3431 531 \nL 3431 0 \nL 469 0 \nL 469 531 \nQ 828 903 1448 1529 \nQ 2069 2156 2228 2338 \nQ 2531 2678 2651 2914 \nQ 2772 3150 2772 3378 \nQ 2772 3750 2511 3984 \nQ 2250 4219 1831 4219 \nQ 1534 4219 1204 4116 \nQ 875 4013 500 3803 \nL 500 4441 \nQ 881 4594 1212 4672 \nQ 1544 4750 1819 4750 \nQ 2544 4750 2975 4387 \nQ 3406 4025 3406 3419 \nQ 3406 3131 3298 2873 \nQ 3191 2616 2906 2266 \nQ 2828 2175 2409 1742 \nQ 1991 1309 1228 531 \nz\n\" id=\"DejaVuSans-32\" transform=\"scale(0.015625)\"/>\n       </defs>\n       <use xlink:href=\"#DejaVuSans-32\"/>\n       <use x=\"63.623047\" xlink:href=\"#DejaVuSans-30\"/>\n      </g>\n     </g>\n    </g>\n    <g id=\"xtick_3\">\n     <g id=\"line2d_3\">\n      <g>\n       <use style=\"stroke:#000000;stroke-width:0.8;\" x=\"143.829773\" xlink:href=\"#mcd71158867\" y=\"130.745455\"/>\n      </g>\n     </g>\n     <g id=\"text_3\">\n      <!-- 40 -->\n      <g transform=\"translate(137.467273 145.343892)scale(0.1 -0.1)\">\n       <defs>\n        <path d=\"M 2419 4116 \nL 825 1625 \nL 2419 1625 \nL 2419 4116 \nz\nM 2253 4666 \nL 3047 4666 \nL 3047 1625 \nL 3713 1625 \nL 3713 1100 \nL 3047 1100 \nL 3047 0 \nL 2419 0 \nL 2419 1100 \nL 313 1100 \nL 313 1709 \nL 2253 4666 \nz\n\" id=\"DejaVuSans-34\" transform=\"scale(0.015625)\"/>\n       </defs>\n       <use xlink:href=\"#DejaVuSans-34\"/>\n       <use x=\"63.623047\" xlink:href=\"#DejaVuSans-30\"/>\n      </g>\n     </g>\n    </g>\n    <g id=\"xtick_4\">\n     <g id=\"line2d_4\">\n      <g>\n       <use style=\"stroke:#000000;stroke-width:0.8;\" x=\"204.7025\" xlink:href=\"#mcd71158867\" y=\"130.745455\"/>\n      </g>\n     </g>\n     <g id=\"text_4\">\n      <!-- 60 -->\n      <g transform=\"translate(198.34 145.343892)scale(0.1 -0.1)\">\n       <defs>\n        <path d=\"M 2113 2584 \nQ 1688 2584 1439 2293 \nQ 1191 2003 1191 1497 \nQ 1191 994 1439 701 \nQ 1688 409 2113 409 \nQ 2538 409 2786 701 \nQ 3034 994 3034 1497 \nQ 3034 2003 2786 2293 \nQ 2538 2584 2113 2584 \nz\nM 3366 4563 \nL 3366 3988 \nQ 3128 4100 2886 4159 \nQ 2644 4219 2406 4219 \nQ 1781 4219 1451 3797 \nQ 1122 3375 1075 2522 \nQ 1259 2794 1537 2939 \nQ 1816 3084 2150 3084 \nQ 2853 3084 3261 2657 \nQ 3669 2231 3669 1497 \nQ 3669 778 3244 343 \nQ 2819 -91 2113 -91 \nQ 1303 -91 875 529 \nQ 447 1150 447 2328 \nQ 447 3434 972 4092 \nQ 1497 4750 2381 4750 \nQ 2619 4750 2861 4703 \nQ 3103 4656 3366 4563 \nz\n\" id=\"DejaVuSans-36\" transform=\"scale(0.015625)\"/>\n       </defs>\n       <use xlink:href=\"#DejaVuSans-36\"/>\n       <use x=\"63.623047\" xlink:href=\"#DejaVuSans-30\"/>\n      </g>\n     </g>\n    </g>\n    <g id=\"xtick_5\">\n     <g id=\"line2d_5\">\n      <g>\n       <use style=\"stroke:#000000;stroke-width:0.8;\" x=\"265.575227\" xlink:href=\"#mcd71158867\" y=\"130.745455\"/>\n      </g>\n     </g>\n     <g id=\"text_5\">\n      <!-- 80 -->\n      <g transform=\"translate(259.212727 145.343892)scale(0.1 -0.1)\">\n       <defs>\n        <path d=\"M 2034 2216 \nQ 1584 2216 1326 1975 \nQ 1069 1734 1069 1313 \nQ 1069 891 1326 650 \nQ 1584 409 2034 409 \nQ 2484 409 2743 651 \nQ 3003 894 3003 1313 \nQ 3003 1734 2745 1975 \nQ 2488 2216 2034 2216 \nz\nM 1403 2484 \nQ 997 2584 770 2862 \nQ 544 3141 544 3541 \nQ 544 4100 942 4425 \nQ 1341 4750 2034 4750 \nQ 2731 4750 3128 4425 \nQ 3525 4100 3525 3541 \nQ 3525 3141 3298 2862 \nQ 3072 2584 2669 2484 \nQ 3125 2378 3379 2068 \nQ 3634 1759 3634 1313 \nQ 3634 634 3220 271 \nQ 2806 -91 2034 -91 \nQ 1263 -91 848 271 \nQ 434 634 434 1313 \nQ 434 1759 690 2068 \nQ 947 2378 1403 2484 \nz\nM 1172 3481 \nQ 1172 3119 1398 2916 \nQ 1625 2713 2034 2713 \nQ 2441 2713 2670 2916 \nQ 2900 3119 2900 3481 \nQ 2900 3844 2670 4047 \nQ 2441 4250 2034 4250 \nQ 1625 4250 1398 4047 \nQ 1172 3844 1172 3481 \nz\n\" id=\"DejaVuSans-38\" transform=\"scale(0.015625)\"/>\n       </defs>\n       <use xlink:href=\"#DejaVuSans-38\"/>\n       <use x=\"63.623047\" xlink:href=\"#DejaVuSans-30\"/>\n      </g>\n     </g>\n    </g>\n   </g>\n   <g id=\"matplotlib.axis_2\">\n    <g id=\"ytick_1\">\n     <g id=\"line2d_6\">\n      <defs>\n       <path d=\"M 0 0 \nL -3.5 0 \n\" id=\"m41ead9016b\" style=\"stroke:#000000;stroke-width:0.8;\"/>\n      </defs>\n      <g>\n       <use style=\"stroke:#000000;stroke-width:0.8;\" x=\"20.5625\" xlink:href=\"#m41ead9016b\" y=\"19.554545\"/>\n      </g>\n     </g>\n     <g id=\"text_6\">\n      <!-- 0 -->\n      <g transform=\"translate(7.2 23.353764)scale(0.1 -0.1)\">\n       <use xlink:href=\"#DejaVuSans-30\"/>\n      </g>\n     </g>\n    </g>\n    <g id=\"ytick_2\">\n     <g id=\"line2d_7\">\n      <g>\n       <use style=\"stroke:#000000;stroke-width:0.8;\" x=\"20.5625\" xlink:href=\"#m41ead9016b\" y=\"44.263636\"/>\n      </g>\n     </g>\n     <g id=\"text_7\">\n      <!-- 1 -->\n      <g transform=\"translate(7.2 48.062855)scale(0.1 -0.1)\">\n       <defs>\n        <path d=\"M 794 531 \nL 1825 531 \nL 1825 4091 \nL 703 3866 \nL 703 4441 \nL 1819 4666 \nL 2450 4666 \nL 2450 531 \nL 3481 531 \nL 3481 0 \nL 794 0 \nL 794 531 \nz\n\" id=\"DejaVuSans-31\" transform=\"scale(0.015625)\"/>\n       </defs>\n       <use xlink:href=\"#DejaVuSans-31\"/>\n      </g>\n     </g>\n    </g>\n    <g id=\"ytick_3\">\n     <g id=\"line2d_8\">\n      <g>\n       <use style=\"stroke:#000000;stroke-width:0.8;\" x=\"20.5625\" xlink:href=\"#m41ead9016b\" y=\"68.972727\"/>\n      </g>\n     </g>\n     <g id=\"text_8\">\n      <!-- 2 -->\n      <g transform=\"translate(7.2 72.771946)scale(0.1 -0.1)\">\n       <use xlink:href=\"#DejaVuSans-32\"/>\n      </g>\n     </g>\n    </g>\n    <g id=\"ytick_4\">\n     <g id=\"line2d_9\">\n      <g>\n       <use style=\"stroke:#000000;stroke-width:0.8;\" x=\"20.5625\" xlink:href=\"#m41ead9016b\" y=\"93.681818\"/>\n      </g>\n     </g>\n     <g id=\"text_9\">\n      <!-- 3 -->\n      <g transform=\"translate(7.2 97.481037)scale(0.1 -0.1)\">\n       <defs>\n        <path d=\"M 2597 2516 \nQ 3050 2419 3304 2112 \nQ 3559 1806 3559 1356 \nQ 3559 666 3084 287 \nQ 2609 -91 1734 -91 \nQ 1441 -91 1130 -33 \nQ 819 25 488 141 \nL 488 750 \nQ 750 597 1062 519 \nQ 1375 441 1716 441 \nQ 2309 441 2620 675 \nQ 2931 909 2931 1356 \nQ 2931 1769 2642 2001 \nQ 2353 2234 1838 2234 \nL 1294 2234 \nL 1294 2753 \nL 1863 2753 \nQ 2328 2753 2575 2939 \nQ 2822 3125 2822 3475 \nQ 2822 3834 2567 4026 \nQ 2313 4219 1838 4219 \nQ 1578 4219 1281 4162 \nQ 984 4106 628 3988 \nL 628 4550 \nQ 988 4650 1302 4700 \nQ 1616 4750 1894 4750 \nQ 2613 4750 3031 4423 \nQ 3450 4097 3450 3541 \nQ 3450 3153 3228 2886 \nQ 3006 2619 2597 2516 \nz\n\" id=\"DejaVuSans-33\" transform=\"scale(0.015625)\"/>\n       </defs>\n       <use xlink:href=\"#DejaVuSans-33\"/>\n      </g>\n     </g>\n    </g>\n    <g id=\"ytick_5\">\n     <g id=\"line2d_10\">\n      <g>\n       <use style=\"stroke:#000000;stroke-width:0.8;\" x=\"20.5625\" xlink:href=\"#m41ead9016b\" y=\"118.390909\"/>\n      </g>\n     </g>\n     <g id=\"text_10\">\n      <!-- 4 -->\n      <g transform=\"translate(7.2 122.190128)scale(0.1 -0.1)\">\n       <use xlink:href=\"#DejaVuSans-34\"/>\n      </g>\n     </g>\n    </g>\n   </g>\n   <g id=\"patch_3\">\n    <path d=\"M 20.5625 130.745455 \nL 20.5625 7.2 \n\" style=\"fill:none;stroke:#000000;stroke-linecap:square;stroke-linejoin:miter;stroke-width:0.8;\"/>\n   </g>\n   <g id=\"patch_4\">\n    <path d=\"M 324.926136 130.745455 \nL 324.926136 7.2 \n\" style=\"fill:none;stroke:#000000;stroke-linecap:square;stroke-linejoin:miter;stroke-width:0.8;\"/>\n   </g>\n   <g id=\"patch_5\">\n    <path d=\"M 20.5625 130.745455 \nL 324.926136 130.745455 \n\" style=\"fill:none;stroke:#000000;stroke-linecap:square;stroke-linejoin:miter;stroke-width:0.8;\"/>\n   </g>\n   <g id=\"patch_6\">\n    <path d=\"M 20.5625 7.2 \nL 324.926136 7.2 \n\" style=\"fill:none;stroke:#000000;stroke-linecap:square;stroke-linejoin:miter;stroke-width:0.8;\"/>\n   </g>\n  </g>\n  <g id=\"axes_2\">\n   <g id=\"patch_7\">\n    <path d=\"M 385.798864 130.745455 \nL 690.1625 130.745455 \nL 690.1625 7.2 \nL 385.798864 7.2 \nz\n\" style=\"fill:#ffffff;\"/>\n   </g>\n   <g clip-path=\"url(#pa7ffb23862)\">\n    <image height=\"124\" id=\"image1e04397407\" transform=\"scale(1 -1)translate(0 -124)\" width=\"305\" x=\"385.798864\" xlink:href=\"data:image/png;base64,\niVBORw0KGgoAAAANSUhEUgAAATEAAAB8CAYAAAAB1IduAAAEIklEQVR4nO3dz2sXdBzH8ffaD5ebtpU/CjTBH9VCPBRllyDoFhF0EKJDDIoOHTKie4dOBd4iIg/RITDoVBIEJXhIouiQi8CYlai5pkLqTFtu6394fw/xgsfj/uIzti/PfW/voT1vHVqrpkPPf9id1sHvnmtvq6pWL463t0Or/Xc/eOZwe/vGTwf6D1fV6rE729t/N/bfXdm71H93YX3/4arac/Db9vaX9x/tPzzAZ2TjqZH+uKquztxqb7d9OdTeLs1eaW//ujDAB6yqJrf2P2O3DfQywP9MxIBoIgZEEzEgmogB0UQMiCZiQDQRA6KJGBBNxIBoIgZEEzEgmogB0UQMiCZiQDQRA6KJGBBNxIBoIgZEEzEgmogB0UQMiCZiQDQRA6KNTD+y2B6/enS2vR292j/yWVU1eq2/3370Ynu78NRUe3v11/62qmptZ/+i665P/2lvf3tguL198rG59raq6viRfe3t/VvOt7c7N1xub4+ffai9raoau9T/fQ9y9ffm8mh7Ozk/2MHgyR39z6dvYkA0EQOiiRgQTcSAaCIGRBMxIJqIAdFEDIgmYkA0EQOiiRgQTcSAaCIGRBMxIJqIAdFEDIgmYkA0EQOiiRgQTcSAaCIGRBMxIJqIAdFEDIg2Mj1+oz1e9+BCe3vm983tbVXVxLn+sc6/d061t4fPPN7e7t53rr2tqpqf29benn6x//9qbbk9rePH+sdvq6p2fHGzvd309vX2dmb9hfb268m19raqannLrfZ27Er/eO7QyQ3t7Yaz/Xerqmam/2xvfRMDookYEE3EgGgiBkQTMSCaiAHRRAyIJmJANBEDookYEE3EgGgiBkQTMSCaiAHRRAyIJmJANBEDookYEE3EgGgiBkQTMSCaiAHRRAyINrL48Y72+KXXP2tv3116or2tqhq93r+Rd2nvaP/hpYn29I4j/Z+5qmrdff3/OeOnxtrbh2dPtreXd61vb6uq5i/uaW8XF+9pb384v7293fTjYHcnp1/p3yf9+dl729u7v+nfjnzhzc/b26qqd756ur31TQyIJmJANBEDookYEE3EgGgiBkQTMSCaiAHRRAyIJmJANBEDookYEE3EgGgiBkQTMSCaiAHRRAyIJmJANBEDookYEE3EgGgiBkQTMSCaiAHRhg6ceLl96fPctan2w3+c3tzeVlWNXRpubzftX2hvVz7a0t5u/OT79raqauHg/vb2xtb+QdfV0f52ZaJ/kLWqavha/++8b/98ezt3Ynd7u3L7YMdzh1b627W7lvvbW/3vNJMDHGeuqpp77b321jcxIJqIAdFEDIgmYkA0EQOiiRgQTcSAaCIGRBMxIJqIAdFEDIgmYkA0EQOiiRgQTcSAaCIGRBMxIJqIAdFEDIgmYkA0EQOiiRgQTcSAaCIGRPsPt36WVnpccGEAAAAASUVORK5CYII=\" y=\"-6.745455\"/>\n   </g>\n   <g id=\"matplotlib.axis_3\">\n    <g id=\"xtick_6\">\n     <g id=\"line2d_11\">\n      <g>\n       <use style=\"stroke:#000000;stroke-width:0.8;\" x=\"393.407955\" xlink:href=\"#mcd71158867\" y=\"130.745455\"/>\n      </g>\n     </g>\n     <g id=\"text_11\">\n      <!-- 0.0 -->\n      <g transform=\"translate(385.456392 145.343892)scale(0.1 -0.1)\">\n       <defs>\n        <path d=\"M 684 794 \nL 1344 794 \nL 1344 0 \nL 684 0 \nL 684 794 \nz\n\" id=\"DejaVuSans-2e\" transform=\"scale(0.015625)\"/>\n       </defs>\n       <use xlink:href=\"#DejaVuSans-30\"/>\n       <use x=\"63.623047\" xlink:href=\"#DejaVuSans-2e\"/>\n       <use x=\"95.410156\" xlink:href=\"#DejaVuSans-30\"/>\n      </g>\n     </g>\n    </g>\n    <g id=\"xtick_7\">\n     <g id=\"line2d_12\">\n      <g>\n       <use style=\"stroke:#000000;stroke-width:0.8;\" x=\"431.453409\" xlink:href=\"#mcd71158867\" y=\"130.745455\"/>\n      </g>\n     </g>\n     <g id=\"text_12\">\n      <!-- 2.5 -->\n      <g transform=\"translate(423.501847 145.343892)scale(0.1 -0.1)\">\n       <defs>\n        <path d=\"M 691 4666 \nL 3169 4666 \nL 3169 4134 \nL 1269 4134 \nL 1269 2991 \nQ 1406 3038 1543 3061 \nQ 1681 3084 1819 3084 \nQ 2600 3084 3056 2656 \nQ 3513 2228 3513 1497 \nQ 3513 744 3044 326 \nQ 2575 -91 1722 -91 \nQ 1428 -91 1123 -41 \nQ 819 9 494 109 \nL 494 744 \nQ 775 591 1075 516 \nQ 1375 441 1709 441 \nQ 2250 441 2565 725 \nQ 2881 1009 2881 1497 \nQ 2881 1984 2565 2268 \nQ 2250 2553 1709 2553 \nQ 1456 2553 1204 2497 \nQ 953 2441 691 2322 \nL 691 4666 \nz\n\" id=\"DejaVuSans-35\" transform=\"scale(0.015625)\"/>\n       </defs>\n       <use xlink:href=\"#DejaVuSans-32\"/>\n       <use x=\"63.623047\" xlink:href=\"#DejaVuSans-2e\"/>\n       <use x=\"95.410156\" xlink:href=\"#DejaVuSans-35\"/>\n      </g>\n     </g>\n    </g>\n    <g id=\"xtick_8\">\n     <g id=\"line2d_13\">\n      <g>\n       <use style=\"stroke:#000000;stroke-width:0.8;\" x=\"469.498864\" xlink:href=\"#mcd71158867\" y=\"130.745455\"/>\n      </g>\n     </g>\n     <g id=\"text_13\">\n      <!-- 5.0 -->\n      <g transform=\"translate(461.547301 145.343892)scale(0.1 -0.1)\">\n       <use xlink:href=\"#DejaVuSans-35\"/>\n       <use x=\"63.623047\" xlink:href=\"#DejaVuSans-2e\"/>\n       <use x=\"95.410156\" xlink:href=\"#DejaVuSans-30\"/>\n      </g>\n     </g>\n    </g>\n    <g id=\"xtick_9\">\n     <g id=\"line2d_14\">\n      <g>\n       <use style=\"stroke:#000000;stroke-width:0.8;\" x=\"507.544318\" xlink:href=\"#mcd71158867\" y=\"130.745455\"/>\n      </g>\n     </g>\n     <g id=\"text_14\">\n      <!-- 7.5 -->\n      <g transform=\"translate(499.592756 145.343892)scale(0.1 -0.1)\">\n       <defs>\n        <path d=\"M 525 4666 \nL 3525 4666 \nL 3525 4397 \nL 1831 0 \nL 1172 0 \nL 2766 4134 \nL 525 4134 \nL 525 4666 \nz\n\" id=\"DejaVuSans-37\" transform=\"scale(0.015625)\"/>\n       </defs>\n       <use xlink:href=\"#DejaVuSans-37\"/>\n       <use x=\"63.623047\" xlink:href=\"#DejaVuSans-2e\"/>\n       <use x=\"95.410156\" xlink:href=\"#DejaVuSans-35\"/>\n      </g>\n     </g>\n    </g>\n    <g id=\"xtick_10\">\n     <g id=\"line2d_15\">\n      <g>\n       <use style=\"stroke:#000000;stroke-width:0.8;\" x=\"545.589773\" xlink:href=\"#mcd71158867\" y=\"130.745455\"/>\n      </g>\n     </g>\n     <g id=\"text_15\">\n      <!-- 10.0 -->\n      <g transform=\"translate(534.45696 145.343892)scale(0.1 -0.1)\">\n       <use xlink:href=\"#DejaVuSans-31\"/>\n       <use x=\"63.623047\" xlink:href=\"#DejaVuSans-30\"/>\n       <use x=\"127.246094\" xlink:href=\"#DejaVuSans-2e\"/>\n       <use x=\"159.033203\" xlink:href=\"#DejaVuSans-30\"/>\n      </g>\n     </g>\n    </g>\n    <g id=\"xtick_11\">\n     <g id=\"line2d_16\">\n      <g>\n       <use style=\"stroke:#000000;stroke-width:0.8;\" x=\"583.635227\" xlink:href=\"#mcd71158867\" y=\"130.745455\"/>\n      </g>\n     </g>\n     <g id=\"text_16\">\n      <!-- 12.5 -->\n      <g transform=\"translate(572.502415 145.343892)scale(0.1 -0.1)\">\n       <use xlink:href=\"#DejaVuSans-31\"/>\n       <use x=\"63.623047\" xlink:href=\"#DejaVuSans-32\"/>\n       <use x=\"127.246094\" xlink:href=\"#DejaVuSans-2e\"/>\n       <use x=\"159.033203\" xlink:href=\"#DejaVuSans-35\"/>\n      </g>\n     </g>\n    </g>\n    <g id=\"xtick_12\">\n     <g id=\"line2d_17\">\n      <g>\n       <use style=\"stroke:#000000;stroke-width:0.8;\" x=\"621.680682\" xlink:href=\"#mcd71158867\" y=\"130.745455\"/>\n      </g>\n     </g>\n     <g id=\"text_17\">\n      <!-- 15.0 -->\n      <g transform=\"translate(610.547869 145.343892)scale(0.1 -0.1)\">\n       <use xlink:href=\"#DejaVuSans-31\"/>\n       <use x=\"63.623047\" xlink:href=\"#DejaVuSans-35\"/>\n       <use x=\"127.246094\" xlink:href=\"#DejaVuSans-2e\"/>\n       <use x=\"159.033203\" xlink:href=\"#DejaVuSans-30\"/>\n      </g>\n     </g>\n    </g>\n    <g id=\"xtick_13\">\n     <g id=\"line2d_18\">\n      <g>\n       <use style=\"stroke:#000000;stroke-width:0.8;\" x=\"659.726136\" xlink:href=\"#mcd71158867\" y=\"130.745455\"/>\n      </g>\n     </g>\n     <g id=\"text_18\">\n      <!-- 17.5 -->\n      <g transform=\"translate(648.593324 145.343892)scale(0.1 -0.1)\">\n       <use xlink:href=\"#DejaVuSans-31\"/>\n       <use x=\"63.623047\" xlink:href=\"#DejaVuSans-37\"/>\n       <use x=\"127.246094\" xlink:href=\"#DejaVuSans-2e\"/>\n       <use x=\"159.033203\" xlink:href=\"#DejaVuSans-35\"/>\n      </g>\n     </g>\n    </g>\n   </g>\n   <g id=\"matplotlib.axis_4\">\n    <g id=\"ytick_6\">\n     <g id=\"line2d_19\">\n      <g>\n       <use style=\"stroke:#000000;stroke-width:0.8;\" x=\"385.798864\" xlink:href=\"#m41ead9016b\" y=\"19.554545\"/>\n      </g>\n     </g>\n     <g id=\"text_19\">\n      <!-- 0 -->\n      <g transform=\"translate(372.436364 23.353764)scale(0.1 -0.1)\">\n       <use xlink:href=\"#DejaVuSans-30\"/>\n      </g>\n     </g>\n    </g>\n    <g id=\"ytick_7\">\n     <g id=\"line2d_20\">\n      <g>\n       <use style=\"stroke:#000000;stroke-width:0.8;\" x=\"385.798864\" xlink:href=\"#m41ead9016b\" y=\"44.263636\"/>\n      </g>\n     </g>\n     <g id=\"text_20\">\n      <!-- 1 -->\n      <g transform=\"translate(372.436364 48.062855)scale(0.1 -0.1)\">\n       <use xlink:href=\"#DejaVuSans-31\"/>\n      </g>\n     </g>\n    </g>\n    <g id=\"ytick_8\">\n     <g id=\"line2d_21\">\n      <g>\n       <use style=\"stroke:#000000;stroke-width:0.8;\" x=\"385.798864\" xlink:href=\"#m41ead9016b\" y=\"68.972727\"/>\n      </g>\n     </g>\n     <g id=\"text_21\">\n      <!-- 2 -->\n      <g transform=\"translate(372.436364 72.771946)scale(0.1 -0.1)\">\n       <use xlink:href=\"#DejaVuSans-32\"/>\n      </g>\n     </g>\n    </g>\n    <g id=\"ytick_9\">\n     <g id=\"line2d_22\">\n      <g>\n       <use style=\"stroke:#000000;stroke-width:0.8;\" x=\"385.798864\" xlink:href=\"#m41ead9016b\" y=\"93.681818\"/>\n      </g>\n     </g>\n     <g id=\"text_22\">\n      <!-- 3 -->\n      <g transform=\"translate(372.436364 97.481037)scale(0.1 -0.1)\">\n       <use xlink:href=\"#DejaVuSans-33\"/>\n      </g>\n     </g>\n    </g>\n    <g id=\"ytick_10\">\n     <g id=\"line2d_23\">\n      <g>\n       <use style=\"stroke:#000000;stroke-width:0.8;\" x=\"385.798864\" xlink:href=\"#m41ead9016b\" y=\"118.390909\"/>\n      </g>\n     </g>\n     <g id=\"text_23\">\n      <!-- 4 -->\n      <g transform=\"translate(372.436364 122.190128)scale(0.1 -0.1)\">\n       <use xlink:href=\"#DejaVuSans-34\"/>\n      </g>\n     </g>\n    </g>\n   </g>\n   <g id=\"patch_8\">\n    <path d=\"M 385.798864 130.745455 \nL 385.798864 7.2 \n\" style=\"fill:none;stroke:#000000;stroke-linecap:square;stroke-linejoin:miter;stroke-width:0.8;\"/>\n   </g>\n   <g id=\"patch_9\">\n    <path d=\"M 690.1625 130.745455 \nL 690.1625 7.2 \n\" style=\"fill:none;stroke:#000000;stroke-linecap:square;stroke-linejoin:miter;stroke-width:0.8;\"/>\n   </g>\n   <g id=\"patch_10\">\n    <path d=\"M 385.798864 130.745455 \nL 690.1625 130.745455 \n\" style=\"fill:none;stroke:#000000;stroke-linecap:square;stroke-linejoin:miter;stroke-width:0.8;\"/>\n   </g>\n   <g id=\"patch_11\">\n    <path d=\"M 385.798864 7.2 \nL 690.1625 7.2 \n\" style=\"fill:none;stroke:#000000;stroke-linecap:square;stroke-linejoin:miter;stroke-width:0.8;\"/>\n   </g>\n  </g>\n  <g id=\"axes_3\">\n   <g id=\"patch_12\">\n    <path d=\"M 20.5625 279 \nL 324.926136 279 \nL 324.926136 155.454545 \nL 20.5625 155.454545 \nz\n\" style=\"fill:#ffffff;\"/>\n   </g>\n   <g clip-path=\"url(#pe2fe3693f8)\">\n    <image height=\"124\" id=\"imagedd380ce592\" transform=\"scale(1 -1)translate(0 -124)\" width=\"305\" x=\"20.5625\" xlink:href=\"data:image/png;base64,\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\" y=\"-155\"/>\n   </g>\n   <g id=\"matplotlib.axis_5\">\n    <g id=\"xtick_14\">\n     <g id=\"line2d_24\">\n      <g>\n       <use style=\"stroke:#000000;stroke-width:0.8;\" x=\"22.084318\" xlink:href=\"#mcd71158867\" y=\"279\"/>\n      </g>\n     </g>\n     <g id=\"text_24\">\n      <!-- 0 -->\n      <g transform=\"translate(18.903068 293.598437)scale(0.1 -0.1)\">\n       <use xlink:href=\"#DejaVuSans-30\"/>\n      </g>\n     </g>\n    </g>\n    <g id=\"xtick_15\">\n     <g id=\"line2d_25\">\n      <g>\n       <use style=\"stroke:#000000;stroke-width:0.8;\" x=\"82.957045\" xlink:href=\"#mcd71158867\" y=\"279\"/>\n      </g>\n     </g>\n     <g id=\"text_25\">\n      <!-- 20 -->\n      <g transform=\"translate(76.594545 293.598437)scale(0.1 -0.1)\">\n       <use xlink:href=\"#DejaVuSans-32\"/>\n       <use x=\"63.623047\" xlink:href=\"#DejaVuSans-30\"/>\n      </g>\n     </g>\n    </g>\n    <g id=\"xtick_16\">\n     <g id=\"line2d_26\">\n      <g>\n       <use style=\"stroke:#000000;stroke-width:0.8;\" x=\"143.829773\" xlink:href=\"#mcd71158867\" y=\"279\"/>\n      </g>\n     </g>\n     <g id=\"text_26\">\n      <!-- 40 -->\n      <g transform=\"translate(137.467273 293.598437)scale(0.1 -0.1)\">\n       <use xlink:href=\"#DejaVuSans-34\"/>\n       <use x=\"63.623047\" xlink:href=\"#DejaVuSans-30\"/>\n      </g>\n     </g>\n    </g>\n    <g id=\"xtick_17\">\n     <g id=\"line2d_27\">\n      <g>\n       <use style=\"stroke:#000000;stroke-width:0.8;\" x=\"204.7025\" xlink:href=\"#mcd71158867\" y=\"279\"/>\n      </g>\n     </g>\n     <g id=\"text_27\">\n      <!-- 60 -->\n      <g transform=\"translate(198.34 293.598437)scale(0.1 -0.1)\">\n       <use xlink:href=\"#DejaVuSans-36\"/>\n       <use x=\"63.623047\" xlink:href=\"#DejaVuSans-30\"/>\n      </g>\n     </g>\n    </g>\n    <g id=\"xtick_18\">\n     <g id=\"line2d_28\">\n      <g>\n       <use style=\"stroke:#000000;stroke-width:0.8;\" x=\"265.575227\" xlink:href=\"#mcd71158867\" y=\"279\"/>\n      </g>\n     </g>\n     <g id=\"text_28\">\n      <!-- 80 -->\n      <g transform=\"translate(259.212727 293.598437)scale(0.1 -0.1)\">\n       <use xlink:href=\"#DejaVuSans-38\"/>\n       <use x=\"63.623047\" xlink:href=\"#DejaVuSans-30\"/>\n      </g>\n     </g>\n    </g>\n   </g>\n   <g id=\"matplotlib.axis_6\">\n    <g id=\"ytick_11\">\n     <g id=\"line2d_29\">\n      <g>\n       <use style=\"stroke:#000000;stroke-width:0.8;\" x=\"20.5625\" xlink:href=\"#m41ead9016b\" y=\"167.809091\"/>\n      </g>\n     </g>\n     <g id=\"text_29\">\n      <!-- 0 -->\n      <g transform=\"translate(7.2 171.60831)scale(0.1 -0.1)\">\n       <use xlink:href=\"#DejaVuSans-30\"/>\n      </g>\n     </g>\n    </g>\n    <g id=\"ytick_12\">\n     <g id=\"line2d_30\">\n      <g>\n       <use style=\"stroke:#000000;stroke-width:0.8;\" x=\"20.5625\" xlink:href=\"#m41ead9016b\" y=\"192.518182\"/>\n      </g>\n     </g>\n     <g id=\"text_30\">\n      <!-- 1 -->\n      <g transform=\"translate(7.2 196.317401)scale(0.1 -0.1)\">\n       <use xlink:href=\"#DejaVuSans-31\"/>\n      </g>\n     </g>\n    </g>\n    <g id=\"ytick_13\">\n     <g id=\"line2d_31\">\n      <g>\n       <use style=\"stroke:#000000;stroke-width:0.8;\" x=\"20.5625\" xlink:href=\"#m41ead9016b\" y=\"217.227273\"/>\n      </g>\n     </g>\n     <g id=\"text_31\">\n      <!-- 2 -->\n      <g transform=\"translate(7.2 221.026491)scale(0.1 -0.1)\">\n       <use xlink:href=\"#DejaVuSans-32\"/>\n      </g>\n     </g>\n    </g>\n    <g id=\"ytick_14\">\n     <g id=\"line2d_32\">\n      <g>\n       <use style=\"stroke:#000000;stroke-width:0.8;\" x=\"20.5625\" xlink:href=\"#m41ead9016b\" y=\"241.936364\"/>\n      </g>\n     </g>\n     <g id=\"text_32\">\n      <!-- 3 -->\n      <g transform=\"translate(7.2 245.735582)scale(0.1 -0.1)\">\n       <use xlink:href=\"#DejaVuSans-33\"/>\n      </g>\n     </g>\n    </g>\n    <g id=\"ytick_15\">\n     <g id=\"line2d_33\">\n      <g>\n       <use style=\"stroke:#000000;stroke-width:0.8;\" x=\"20.5625\" xlink:href=\"#m41ead9016b\" y=\"266.645455\"/>\n      </g>\n     </g>\n     <g id=\"text_33\">\n      <!-- 4 -->\n      <g transform=\"translate(7.2 270.444673)scale(0.1 -0.1)\">\n       <use xlink:href=\"#DejaVuSans-34\"/>\n      </g>\n     </g>\n    </g>\n   </g>\n   <g id=\"patch_13\">\n    <path d=\"M 20.5625 279 \nL 20.5625 155.454545 \n\" style=\"fill:none;stroke:#000000;stroke-linecap:square;stroke-linejoin:miter;stroke-width:0.8;\"/>\n   </g>\n   <g id=\"patch_14\">\n    <path d=\"M 324.926136 279 \nL 324.926136 155.454545 \n\" style=\"fill:none;stroke:#000000;stroke-linecap:square;stroke-linejoin:miter;stroke-width:0.8;\"/>\n   </g>\n   <g id=\"patch_15\">\n    <path d=\"M 20.5625 279 \nL 324.926136 279 \n\" style=\"fill:none;stroke:#000000;stroke-linecap:square;stroke-linejoin:miter;stroke-width:0.8;\"/>\n   </g>\n   <g id=\"patch_16\">\n    <path d=\"M 20.5625 155.454545 \nL 324.926136 155.454545 \n\" style=\"fill:none;stroke:#000000;stroke-linecap:square;stroke-linejoin:miter;stroke-width:0.8;\"/>\n   </g>\n  </g>\n  <g id=\"axes_4\">\n   <g id=\"patch_17\">\n    <path d=\"M 385.798864 279 \nL 690.1625 279 \nL 690.1625 155.454545 \nL 385.798864 155.454545 \nz\n\" style=\"fill:#ffffff;\"/>\n   </g>\n   <g clip-path=\"url(#p5a15eddceb)\">\n    <image height=\"124\" id=\"image1d2045dbe6\" transform=\"scale(1 -1)translate(0 -124)\" width=\"305\" x=\"385.798864\" xlink:href=\"data:image/png;base64,\niVBORw0KGgoAAAANSUhEUgAAATEAAAB8CAYAAAAB1IduAAAEFklEQVR4nO3dvWueZRjG4SvN26Tfjf1IWxSL/UAc7CKawcHiIrgXREEcpIqDsf4B3V2liIsUJxEdqkM3RSmGYp2MVCIptWC1WLXRlDQmTV7/hyuDnHAc+8kN7/Pwe5/tHnnuqzeH1bS0Otad1o2f97e3VVV7vhu0tztv3u8fPH27PR0f3cC5VTU/+1B7O5xY7W/bb0jV5lv9d6Sq6vDF5fb2wDvX29up3f3tuQvPt7dVVSuT/ffkyEfr7e1vT4+3txM/9c+tqnrszA/t7aYNnQzwPxMxIJqIAdFEDIgmYkA0EQOiiRgQTcSAaCIGRBMxIJqIAdFEDIgmYkA0EQOiiRgQTcSAaCIGRBMxIJqIAdFEDIgmYkA0EQOiiRgQTcSAaIM7y1vb49/n+hfgjv8z0t5WVa3s7u+3XVpob186fKm9PXvxVHtbVTXcwF/O0Q/6l5tef71/7jPPft8fV9XXjxxtb0eXt7e3P24+1N4O7m7s3a5h/2LolYn+cx6eWGxvF+/tbG+rqq7eOdDe+hIDookYEE3EgGgiBkQTMSCaiAHRRAyIJmJANBEDookYEE3EgGgiBkQTMSCaiAHRRAyIJmJANBEDookYEE3EgGgiBkQTMSCaiAHRRAyIJmJAtMGdK5Pt8bsvnm9vp799ob2tqlq5vaW9nTu9t709OFhob3cd6W+rqta/3NPe3jzZvyR5dHC3vf3i8uPtbVXV8enL7e3c+0/1t+sPtre7ltrTqqpaOrzWHw/7F/duGVttbxeO3W9vq6pqebw99SUGRBMxIJqIAdFEDIgmYkA0EQOiiRgQTcSAaCIGRBMxIJqIAdFEDIgmYkA0EQOiiRgQTcSAaCIGRBMxIJqIAdFEDIgmYkA0EQOiiRgQbeTUzOlhd/zL4kT74F+v7W9vq6rG/hhtb/dN3Wpv1z7s39O56+Mr7W1V1a3pqfb23oH2Y671zf3t2vb19raqanSx/5xPTM23t7Mzx9rbta3936uqamQj107uXelv7/e/aXbMjbW3VVWzb73X3voSA6KJGBBNxIBoIgZEEzEgmogB0UQMiCZiQDQRA6KJGBBNxIBoIgZEEzEgmogB0UQMiCZiQDQRA6KJGBBNxIBoIgZEEzEgmogB0UQMiCZiQLTB/PlH2+NX3/68vT23dLK9raraMbOzvV1YOtg/+NTf7emmtSf751bV6vb+dseN/vaJV2bb2z//3dY/uKrmLxxvb6/9ta+9HRy9295OfrKBB1VVD7zRf1hXZx9ubw99M9Levnz2s/a2qurIp6+1t77EgGgiBkQTMSCaiAHRRAyIJmJANBEDookYEE3EgGgiBkQTMSCaiAHRRAyIJmJANBEDookYEE3EgGgiBkQTMSCaiAHRRAyIJmJANBEDookYEO0/EX2YHV/CABsAAAAASUVORK5CYII=\" y=\"-155\"/>\n   </g>\n   <g id=\"matplotlib.axis_7\">\n    <g id=\"xtick_19\">\n     <g id=\"line2d_34\">\n      <g>\n       <use style=\"stroke:#000000;stroke-width:0.8;\" x=\"393.407955\" xlink:href=\"#mcd71158867\" y=\"279\"/>\n      </g>\n     </g>\n     <g id=\"text_34\">\n      <!-- 0.0 -->\n      <g transform=\"translate(385.456392 293.598437)scale(0.1 -0.1)\">\n       <use xlink:href=\"#DejaVuSans-30\"/>\n       <use x=\"63.623047\" xlink:href=\"#DejaVuSans-2e\"/>\n       <use x=\"95.410156\" xlink:href=\"#DejaVuSans-30\"/>\n      </g>\n     </g>\n    </g>\n    <g id=\"xtick_20\">\n     <g id=\"line2d_35\">\n      <g>\n       <use style=\"stroke:#000000;stroke-width:0.8;\" x=\"431.453409\" xlink:href=\"#mcd71158867\" y=\"279\"/>\n      </g>\n     </g>\n     <g id=\"text_35\">\n      <!-- 2.5 -->\n      <g transform=\"translate(423.501847 293.598437)scale(0.1 -0.1)\">\n       <use xlink:href=\"#DejaVuSans-32\"/>\n       <use x=\"63.623047\" xlink:href=\"#DejaVuSans-2e\"/>\n       <use x=\"95.410156\" xlink:href=\"#DejaVuSans-35\"/>\n      </g>\n     </g>\n    </g>\n    <g id=\"xtick_21\">\n     <g id=\"line2d_36\">\n      <g>\n       <use style=\"stroke:#000000;stroke-width:0.8;\" x=\"469.498864\" xlink:href=\"#mcd71158867\" y=\"279\"/>\n      </g>\n     </g>\n     <g id=\"text_36\">\n      <!-- 5.0 -->\n      <g transform=\"translate(461.547301 293.598437)scale(0.1 -0.1)\">\n       <use xlink:href=\"#DejaVuSans-35\"/>\n       <use x=\"63.623047\" xlink:href=\"#DejaVuSans-2e\"/>\n       <use x=\"95.410156\" xlink:href=\"#DejaVuSans-30\"/>\n      </g>\n     </g>\n    </g>\n    <g id=\"xtick_22\">\n     <g id=\"line2d_37\">\n      <g>\n       <use style=\"stroke:#000000;stroke-width:0.8;\" x=\"507.544318\" xlink:href=\"#mcd71158867\" y=\"279\"/>\n      </g>\n     </g>\n     <g id=\"text_37\">\n      <!-- 7.5 -->\n      <g transform=\"translate(499.592756 293.598437)scale(0.1 -0.1)\">\n       <use xlink:href=\"#DejaVuSans-37\"/>\n       <use x=\"63.623047\" xlink:href=\"#DejaVuSans-2e\"/>\n       <use x=\"95.410156\" xlink:href=\"#DejaVuSans-35\"/>\n      </g>\n     </g>\n    </g>\n    <g id=\"xtick_23\">\n     <g id=\"line2d_38\">\n      <g>\n       <use style=\"stroke:#000000;stroke-width:0.8;\" x=\"545.589773\" xlink:href=\"#mcd71158867\" y=\"279\"/>\n      </g>\n     </g>\n     <g id=\"text_38\">\n      <!-- 10.0 -->\n      <g transform=\"translate(534.45696 293.598437)scale(0.1 -0.1)\">\n       <use xlink:href=\"#DejaVuSans-31\"/>\n       <use x=\"63.623047\" xlink:href=\"#DejaVuSans-30\"/>\n       <use x=\"127.246094\" xlink:href=\"#DejaVuSans-2e\"/>\n       <use x=\"159.033203\" xlink:href=\"#DejaVuSans-30\"/>\n      </g>\n     </g>\n    </g>\n    <g id=\"xtick_24\">\n     <g id=\"line2d_39\">\n      <g>\n       <use style=\"stroke:#000000;stroke-width:0.8;\" x=\"583.635227\" xlink:href=\"#mcd71158867\" y=\"279\"/>\n      </g>\n     </g>\n     <g id=\"text_39\">\n      <!-- 12.5 -->\n      <g transform=\"translate(572.502415 293.598437)scale(0.1 -0.1)\">\n       <use xlink:href=\"#DejaVuSans-31\"/>\n       <use x=\"63.623047\" xlink:href=\"#DejaVuSans-32\"/>\n       <use x=\"127.246094\" xlink:href=\"#DejaVuSans-2e\"/>\n       <use x=\"159.033203\" xlink:href=\"#DejaVuSans-35\"/>\n      </g>\n     </g>\n    </g>\n    <g id=\"xtick_25\">\n     <g id=\"line2d_40\">\n      <g>\n       <use style=\"stroke:#000000;stroke-width:0.8;\" x=\"621.680682\" xlink:href=\"#mcd71158867\" y=\"279\"/>\n      </g>\n     </g>\n     <g id=\"text_40\">\n      <!-- 15.0 -->\n      <g transform=\"translate(610.547869 293.598437)scale(0.1 -0.1)\">\n       <use xlink:href=\"#DejaVuSans-31\"/>\n       <use x=\"63.623047\" xlink:href=\"#DejaVuSans-35\"/>\n       <use x=\"127.246094\" xlink:href=\"#DejaVuSans-2e\"/>\n       <use x=\"159.033203\" xlink:href=\"#DejaVuSans-30\"/>\n      </g>\n     </g>\n    </g>\n    <g id=\"xtick_26\">\n     <g id=\"line2d_41\">\n      <g>\n       <use style=\"stroke:#000000;stroke-width:0.8;\" x=\"659.726136\" xlink:href=\"#mcd71158867\" y=\"279\"/>\n      </g>\n     </g>\n     <g id=\"text_41\">\n      <!-- 17.5 -->\n      <g transform=\"translate(648.593324 293.598437)scale(0.1 -0.1)\">\n       <use xlink:href=\"#DejaVuSans-31\"/>\n       <use x=\"63.623047\" xlink:href=\"#DejaVuSans-37\"/>\n       <use x=\"127.246094\" xlink:href=\"#DejaVuSans-2e\"/>\n       <use x=\"159.033203\" xlink:href=\"#DejaVuSans-35\"/>\n      </g>\n     </g>\n    </g>\n   </g>\n   <g id=\"matplotlib.axis_8\">\n    <g id=\"ytick_16\">\n     <g id=\"line2d_42\">\n      <g>\n       <use style=\"stroke:#000000;stroke-width:0.8;\" x=\"385.798864\" xlink:href=\"#m41ead9016b\" y=\"167.809091\"/>\n      </g>\n     </g>\n     <g id=\"text_42\">\n      <!-- 0 -->\n      <g transform=\"translate(372.436364 171.60831)scale(0.1 -0.1)\">\n       <use xlink:href=\"#DejaVuSans-30\"/>\n      </g>\n     </g>\n    </g>\n    <g id=\"ytick_17\">\n     <g id=\"line2d_43\">\n      <g>\n       <use style=\"stroke:#000000;stroke-width:0.8;\" x=\"385.798864\" xlink:href=\"#m41ead9016b\" y=\"192.518182\"/>\n      </g>\n     </g>\n     <g id=\"text_43\">\n      <!-- 1 -->\n      <g transform=\"translate(372.436364 196.317401)scale(0.1 -0.1)\">\n       <use xlink:href=\"#DejaVuSans-31\"/>\n      </g>\n     </g>\n    </g>\n    <g id=\"ytick_18\">\n     <g id=\"line2d_44\">\n      <g>\n       <use style=\"stroke:#000000;stroke-width:0.8;\" x=\"385.798864\" xlink:href=\"#m41ead9016b\" y=\"217.227273\"/>\n      </g>\n     </g>\n     <g id=\"text_44\">\n      <!-- 2 -->\n      <g transform=\"translate(372.436364 221.026491)scale(0.1 -0.1)\">\n       <use xlink:href=\"#DejaVuSans-32\"/>\n      </g>\n     </g>\n    </g>\n    <g id=\"ytick_19\">\n     <g id=\"line2d_45\">\n      <g>\n       <use style=\"stroke:#000000;stroke-width:0.8;\" x=\"385.798864\" xlink:href=\"#m41ead9016b\" y=\"241.936364\"/>\n      </g>\n     </g>\n     <g id=\"text_45\">\n      <!-- 3 -->\n      <g transform=\"translate(372.436364 245.735582)scale(0.1 -0.1)\">\n       <use xlink:href=\"#DejaVuSans-33\"/>\n      </g>\n     </g>\n    </g>\n    <g id=\"ytick_20\">\n     <g id=\"line2d_46\">\n      <g>\n       <use style=\"stroke:#000000;stroke-width:0.8;\" x=\"385.798864\" xlink:href=\"#m41ead9016b\" y=\"266.645455\"/>\n      </g>\n     </g>\n     <g id=\"text_46\">\n      <!-- 4 -->\n      <g transform=\"translate(372.436364 270.444673)scale(0.1 -0.1)\">\n       <use xlink:href=\"#DejaVuSans-34\"/>\n      </g>\n     </g>\n    </g>\n   </g>\n   <g id=\"patch_18\">\n    <path d=\"M 385.798864 279 \nL 385.798864 155.454545 \n\" style=\"fill:none;stroke:#000000;stroke-linecap:square;stroke-linejoin:miter;stroke-width:0.8;\"/>\n   </g>\n   <g id=\"patch_19\">\n    <path d=\"M 690.1625 279 \nL 690.1625 155.454545 \n\" style=\"fill:none;stroke:#000000;stroke-linecap:square;stroke-linejoin:miter;stroke-width:0.8;\"/>\n   </g>\n   <g id=\"patch_20\">\n    <path d=\"M 385.798864 279 \nL 690.1625 279 \n\" style=\"fill:none;stroke:#000000;stroke-linecap:square;stroke-linejoin:miter;stroke-width:0.8;\"/>\n   </g>\n   <g id=\"patch_21\">\n    <path d=\"M 385.798864 155.454545 \nL 690.1625 155.454545 \n\" style=\"fill:none;stroke:#000000;stroke-linecap:square;stroke-linejoin:miter;stroke-width:0.8;\"/>\n   </g>\n  </g>\n </g>\n <defs>\n  <clipPath id=\"p67ea488fa4\">\n   <rect height=\"123.545455\" width=\"304.363636\" x=\"20.5625\" y=\"7.2\"/>\n  </clipPath>\n  <clipPath id=\"pa7ffb23862\">\n   <rect height=\"123.545455\" width=\"304.363636\" x=\"385.798864\" y=\"7.2\"/>\n  </clipPath>\n  <clipPath id=\"pe2fe3693f8\">\n   <rect height=\"123.545455\" width=\"304.363636\" x=\"20.5625\" y=\"155.454545\"/>\n  </clipPath>\n  <clipPath id=\"p5a15eddceb\">\n   <rect height=\"123.545455\" width=\"304.363636\" x=\"385.798864\" y=\"155.454545\"/>\n  </clipPath>\n </defs>\n</svg>\n",
      "text/plain": [
       "<Figure size 864x360 with 4 Axes>"
      ]
     },
     "metadata": {
      "needs_background": "light"
     },
     "output_type": "display_data"
    }
   ],
   "source": [
    "fig = plt.figure(figsize=(12,5))\n",
    "plt.subplot(2,2,1)\n",
    "plt.imshow(Uhat[1,:,:].T,aspect='auto')\n",
    "plt.subplot(2,2,2)\n",
    "plt.imshow(Vhat[1,:,:],aspect='auto')\n",
    "plt.subplot(2,2,3)\n",
    "plt.imshow(Uhat[0,:,:].T,aspect='auto')\n",
    "plt.subplot(2,2,4)\n",
    "plt.imshow(Vhat[0,:,:],aspect='auto')\n"
   ]
  },
  {
   "cell_type": "code",
   "execution_count": 42,
   "id": "07ae3db4",
   "metadata": {},
   "outputs": [
    {
     "data": {
      "text/plain": [
       "array([[1.        , 0.99999996, 0.99999996, 0.99999995, 1.        ,\n",
       "        1.        , 0.99999998, 1.        , 1.        , 1.        ],\n",
       "       [0.99999996, 1.        , 1.        , 1.        , 0.99999996,\n",
       "        0.99999996, 0.99999999, 0.99999997, 0.99999996, 0.99999996],\n",
       "       [0.99999996, 1.        , 1.        , 1.        , 0.99999996,\n",
       "        0.99999996, 0.99999999, 0.99999996, 0.99999996, 0.99999996],\n",
       "       [0.99999995, 1.        , 1.        , 1.        , 0.99999996,\n",
       "        0.99999995, 0.99999999, 0.99999996, 0.99999995, 0.99999995],\n",
       "       [1.        , 0.99999996, 0.99999996, 0.99999996, 1.        ,\n",
       "        1.        , 0.99999998, 1.        , 1.        , 1.        ],\n",
       "       [1.        , 0.99999996, 0.99999996, 0.99999995, 1.        ,\n",
       "        1.        , 0.99999998, 1.        , 1.        , 1.        ],\n",
       "       [0.99999998, 0.99999999, 0.99999999, 0.99999999, 0.99999998,\n",
       "        0.99999998, 1.        , 0.99999998, 0.99999997, 0.99999998],\n",
       "       [1.        , 0.99999997, 0.99999996, 0.99999996, 1.        ,\n",
       "        1.        , 0.99999998, 1.        , 1.        , 1.        ],\n",
       "       [1.        , 0.99999996, 0.99999996, 0.99999995, 1.        ,\n",
       "        1.        , 0.99999997, 1.        , 1.        , 1.        ],\n",
       "       [1.        , 0.99999996, 0.99999996, 0.99999995, 1.        ,\n",
       "        1.        , 0.99999998, 1.        , 1.        , 1.        ]])"
      ]
     },
     "execution_count": 42,
     "metadata": {},
     "output_type": "execute_result"
    }
   ],
   "source": [
    "vmatch=np.empty((num,num))\n",
    "umatch=np.empty((num,num))\n",
    "for i in range(num):\n",
    "    for j in range(num):\n",
    "        vmatch[i,j]=(Vhat[i,:,:] @ Vhat[j,:,:].T).max(axis=0).mean()\n",
    "        umatch[i,j]=(Uhat[i,:,:].T @ Uhat[j,:,:]).max(axis=0).mean()\n",
    "vmatch"
   ]
  },
  {
   "cell_type": "markdown",
   "id": "ca7d7591",
   "metadata": {},
   "source": [
    "## Now try the same on a hemisphere "
   ]
  },
  {
   "cell_type": "code",
   "execution_count": null,
   "id": "d5cedc7c",
   "metadata": {},
   "outputs": [],
   "source": [
    "# Load all surfaces \n",
    "flatsurf,inflsurf = load_surf()"
   ]
  },
  {
   "cell_type": "code",
   "execution_count": null,
   "id": "f30793ca",
   "metadata": {},
   "outputs": [],
   "source": [
    "# Plot s02 task maps \n",
    "taskmap,colname,colmap = load_wcon('s02')"
   ]
  },
  {
   "cell_type": "code",
   "execution_count": null,
   "id": "8aa9b63a",
   "metadata": {},
   "outputs": [],
   "source": [
    "# Load the task maps and center \n",
    "YL = np.vstack(taskmap[0].agg_data())\n",
    "YR = np.vstack(taskmap[1].agg_data())\n",
    "YL = YL-YL.mean(axis=0)\n",
    "YR = YR-YR.mean(axis=0)\n",
    "YL[np.isnan(YL)]=0\n",
    "YR[np.isnan(YR)]=0"
   ]
  },
  {
   "cell_type": "code",
   "execution_count": null,
   "id": "367b741a",
   "metadata": {},
   "outputs": [],
   "source": [
    "snn1 = DictionaryLearning(n_components=10, transform_algorithm='lasso_cd',random_state=33,positive_code=True,fit_algorithm='cd',transform_max_iter=2000)\n",
    "snn1.fit(YL.T)"
   ]
  },
  {
   "cell_type": "code",
   "execution_count": null,
   "id": "77f0cb5b",
   "metadata": {},
   "outputs": [],
   "source": [
    "U = snn.transform(YL.T)\n",
    "V = snn.components_"
   ]
  },
  {
   "cell_type": "code",
   "execution_count": null,
   "id": "92188736",
   "metadata": {},
   "outputs": [],
   "source": [
    "a=plt.hist(np.sum(U,axis=1),bins=50)"
   ]
  },
  {
   "cell_type": "code",
   "execution_count": null,
   "id": "013ca7bf",
   "metadata": {},
   "outputs": [],
   "source": [
    "label = np.argmax(U,axis=1)\n",
    "length = np.sum(U,axis=1)\n",
    "fig = plt.figure(figsize=(12,5))\n",
    "ax1 = plt.subplot(1,2,1)\n",
    "ax2 = surf.plot.plotmap(label+1,flatsurf[0],overlay_type='label',cmap='Paired')\n",
    "ax3 = plt.subplot(1,2,2)\n",
    "ax4 = surf.plot.plotmap(np.sqrt(length),flatsurf[0],overlay_type='func')\n",
    "plt.show()"
   ]
  },
  {
   "cell_type": "code",
   "execution_count": null,
   "id": "8bcdbac4",
   "metadata": {},
   "outputs": [],
   "source": [
    "U1 = snn1.transform(YL.T)\n",
    "V1 = snn1.components_\n",
    "label = np.argmax(U1,axis=1)\n",
    "length = np.sum(U1,axis=1)\n",
    "fig = plt.figure(figsize=(12,5))\n",
    "ax1 = plt.subplot(1,2,1)\n",
    "ax2 = surf.plot.plotmap(label+1,flatsurf[0],overlay_type='label',cmap='Paired')\n",
    "ax3 = plt.subplot(1,2,2)\n",
    "ax4 = surf.plot.plotmap(np.sqrt(length),flatsurf[0],overlay_type='func')\n",
    "plt.show()"
   ]
  },
  {
   "cell_type": "code",
   "execution_count": null,
   "id": "4a9f8402",
   "metadata": {},
   "outputs": [],
   "source": [
    "V- V1"
   ]
  }
 ],
 "metadata": {
  "interpreter": {
   "hash": "82c9595c6ac3df5bed1366f4aa85323e4ec1b3448185f6be6e163d2b6e222f49"
  },
  "kernelspec": {
   "display_name": "Python 3.8.5 64-bit ('base': conda)",
   "name": "python3"
  },
  "language_info": {
   "codemirror_mode": {
    "name": "ipython",
    "version": 3
   },
   "file_extension": ".py",
   "mimetype": "text/x-python",
   "name": "python",
   "nbconvert_exporter": "python",
   "pygments_lexer": "ipython3",
   "version": "3.8.5"
  }
 },
 "nbformat": 4,
 "nbformat_minor": 5
}
