{
 "cells": [
  {
   "cell_type": "code",
   "execution_count": 1,
   "source": [
    "# Preliminaries \n",
    "from mdtb_neocortical import *\n",
    "from sklearn.decomposition import DictionaryLearning\n",
    "import ipywidgets as widgets       # interactive display\n",
    "%config InlineBackend.figure_format = 'svg' # other available formats are: 'retina', 'png', 'jpeg', 'pdf'\n"
   ],
   "outputs": [],
   "metadata": {}
  },
  {
   "cell_type": "markdown",
   "source": [
    "## Quick toy example to test the algorithm\n",
    "Toy example with U ~ Gamma(1,1)"
   ],
   "metadata": {}
  },
  {
   "cell_type": "code",
   "execution_count": 3,
   "source": [
    "# Dictonary learning: Toy example with V~normal, U ~ Gamma(1,x), Y = UV + eps \n",
    "K = 5 \n",
    "N = 20 \n",
    "P = 100 \n",
    "eps = 10\n",
    "beta = 1 \n",
    "\n",
    "V = np.random.normal(0,1,(N,K))\n",
    "V = V - V.mean(axis=0)\n",
    "V = V / np.sqrt(np.sum(V**2,axis=0))\n",
    "\n",
    "\n",
    "U = np.random.gamma(1,beta,(P,K))*0.1\n",
    "Y = np.random.normal(0,eps/np.sqrt(N),(P,N)) #"
   ],
   "outputs": [],
   "metadata": {}
  },
  {
   "cell_type": "code",
   "execution_count": null,
   "source": [
    "num=10\n",
    "Uhat = np.empty((num,P,K))\n",
    "Vhat = np.empty((num,N,K))\n",
    "for i in range(num):\n",
    "    snn = DictionaryLearning(n_components=5, transform_algorithm='lasso_cd',random_state=None,positive_code=True,fit_algorithm='cd')\n",
    "    snn.fit(Y)\n",
    "    Uhat[i,:,:] = snn.transform(Y)\n",
    "    Vhat[i,:,:] = snn.components_.T"
   ],
   "outputs": [],
   "metadata": {}
  },
  {
   "cell_type": "code",
   "execution_count": null,
   "source": [
    "fig = plt.figure(figsize=(12,5))\n",
    "plt.subplot(2,2,1)\n",
    "plt.imshow(Uhat[1,:,:].T,aspect='auto')\n",
    "plt.subplot(2,2,2)\n",
    "plt.imshow(Vhat[1,:,:].T,aspect='auto')\n",
    "plt.subplot(2,2,3)\n",
    "plt.imshow(Uhat[0,:,:].T,aspect='auto')\n",
    "plt.subplot(2,2,4)\n",
    "plt.imshow(Vhat[0,:,:].T,aspect='auto')\n"
   ],
   "outputs": [],
   "metadata": {}
  },
  {
   "cell_type": "code",
   "execution_count": null,
   "source": [
    "vmatch=np.empty((num,num))\n",
    "for i in range(num):\n",
    "    for j in range(num):\n",
    "        vmatch[i,j]=(Vhat[i,:,:].T@ Vhat[j,:,:]).max(axis=0).mean()\n",
    "vmatch"
   ],
   "outputs": [],
   "metadata": {}
  },
  {
   "cell_type": "markdown",
   "source": [
    "## Now try the same on a hemisphere "
   ],
   "metadata": {}
  },
  {
   "cell_type": "code",
   "execution_count": null,
   "source": [
    "# Load all surfaces \n",
    "flatsurf,inflsurf = load_surf()"
   ],
   "outputs": [],
   "metadata": {}
  },
  {
   "cell_type": "code",
   "execution_count": null,
   "source": [
    "# Plot s02 task maps \n",
    "taskmap,colname,colmap = load_wcon('s02')"
   ],
   "outputs": [],
   "metadata": {}
  },
  {
   "cell_type": "code",
   "execution_count": null,
   "source": [
    "# Load the task maps and center \n",
    "YL = np.vstack(taskmap[0].agg_data())\n",
    "YR = np.vstack(taskmap[1].agg_data())\n",
    "YL = YL-YL.mean(axis=0)\n",
    "YR = YR-YR.mean(axis=0)\n",
    "YL[np.isnan(YL)]=0\n",
    "YR[np.isnan(YR)]=0"
   ],
   "outputs": [],
   "metadata": {}
  },
  {
   "cell_type": "code",
   "execution_count": null,
   "source": [
    "snn1 = DictionaryLearning(n_components=10, transform_algorithm='lasso_cd',random_state=33,positive_code=True,fit_algorithm='cd',transform_max_iter=2000)\n",
    "snn1.fit(YL.T)"
   ],
   "outputs": [],
   "metadata": {}
  },
  {
   "cell_type": "code",
   "execution_count": null,
   "source": [
    "U = snn.transform(YL.T)\n",
    "V = snn.components_"
   ],
   "outputs": [],
   "metadata": {}
  },
  {
   "cell_type": "code",
   "execution_count": null,
   "source": [
    "a=plt.hist(np.sum(U,axis=1),bins=50)"
   ],
   "outputs": [],
   "metadata": {}
  },
  {
   "cell_type": "code",
   "execution_count": null,
   "source": [
    "label = np.argmax(U,axis=1)\n",
    "length = np.sum(U,axis=1)\n",
    "fig = plt.figure(figsize=(12,5))\n",
    "ax1 = plt.subplot(1,2,1)\n",
    "ax2 = surf.plot.plotmap(label+1,flatsurf[0],overlay_type='label',cmap='Paired')\n",
    "ax3 = plt.subplot(1,2,2)\n",
    "ax4 = surf.plot.plotmap(np.sqrt(length),flatsurf[0],overlay_type='func')\n",
    "plt.show()"
   ],
   "outputs": [],
   "metadata": {}
  },
  {
   "cell_type": "code",
   "execution_count": null,
   "source": [
    "U1 = snn1.transform(YL.T)\n",
    "V1 = snn1.components_\n",
    "label = np.argmax(U1,axis=1)\n",
    "length = np.sum(U1,axis=1)\n",
    "fig = plt.figure(figsize=(12,5))\n",
    "ax1 = plt.subplot(1,2,1)\n",
    "ax2 = surf.plot.plotmap(label+1,flatsurf[0],overlay_type='label',cmap='Paired')\n",
    "ax3 = plt.subplot(1,2,2)\n",
    "ax4 = surf.plot.plotmap(np.sqrt(length),flatsurf[0],overlay_type='func')\n",
    "plt.show()"
   ],
   "outputs": [],
   "metadata": {}
  },
  {
   "cell_type": "code",
   "execution_count": null,
   "source": [
    "V- V1"
   ],
   "outputs": [],
   "metadata": {}
  }
 ],
 "metadata": {
  "interpreter": {
   "hash": "569d6b7e9215e11aba41c6454007e5c1b78bad7df09dab765d8cf00362c40f03"
  },
  "kernelspec": {
   "name": "python3",
   "display_name": "Python 3.9.5 64-bit ('base': conda)"
  },
  "language_info": {
   "codemirror_mode": {
    "name": "ipython",
    "version": 3
   },
   "file_extension": ".py",
   "mimetype": "text/x-python",
   "name": "python",
   "nbconvert_exporter": "python",
   "pygments_lexer": "ipython3",
   "version": "3.9.5"
  }
 },
 "nbformat": 4,
 "nbformat_minor": 5
}