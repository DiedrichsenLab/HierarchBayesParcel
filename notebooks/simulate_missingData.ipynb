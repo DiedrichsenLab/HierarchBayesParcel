{
 "cells": [
  {
   "cell_type": "markdown",
   "metadata": {
    "collapsed": true
   },
   "source": [
    "# Testing generative framework on incomplete data\n",
    "\n",
    "This jupyter notebook is to test different arrangement / emission models fitting on incomplete data. The main porpuse of this short example is trying to show the generativ framework is able to provide an elegent solution when dealing with missing dataset via an EM procedure.\n",
    "\n",
    "<br>"
   ]
  },
  {
   "cell_type": "markdown",
   "metadata": {},
   "source": [
    "## Generate true data from markov random field\n",
    "\n",
    "First, we generate some true individual parcellations $U$s given by a prior. We can fine-tuning the parameters to control how smooth the parcel boundaries are and the individual variablities.\n",
    "\n",
    "<br>"
   ]
  },
  {
   "cell_type": "code",
   "execution_count": 1,
   "metadata": {},
   "outputs": [],
   "source": [
    "# dependencies\n",
    "%load_ext autoreload\n",
    "%autoreload 2 \n",
    "import os\n",
    "import sys \n",
    "sys.path.append(os.path.abspath('..'))\n",
    "\n",
    "import numpy as np\n",
    "import torch as pt\n",
    "import matplotlib.pyplot as plt\n",
    "\n",
    "from full_model import FullModel\n",
    "import emissions as em\n",
    "import arrangements as ar\n",
    "import spatial as sp"
   ]
  },
  {
   "cell_type": "markdown",
   "metadata": {},
   "source": [
    "### Plotting the group prior"
   ]
  },
  {
   "cell_type": "code",
   "execution_count": 10,
   "metadata": {},
   "outputs": [
    {
     "data": {
      "image/png": "[encoded data removed]",
      "text/plain": [
       "<Figure size 720x288 with 5 Axes>"
      ]
     },
     "metadata": {
      "needs_background": "light"
     },
     "output_type": "display_data"
    }
   ],
   "source": [
    "K=5\n",
    "N=20\n",
    "num_sub=10\n",
    "max_iter=100\n",
    "sigma2=0.2\n",
    "missingdata=0.2\n",
    "width = 30\n",
    "height = 30\n",
    "\n",
    "# Step 1: Create the true model\n",
    "grid = sp.SpatialGrid(width=width, height=height)\n",
    "arrangeT = ar.PottsModel(grid.W, K=K)\n",
    "emissionT = em.MixGaussian(K=K, N=N, P=grid.P, std_V=False)\n",
    "emissionT.sigma2 = pt.tensor(sigma2)\n",
    "\n",
    "# Step 2: Initialize the parameters of the true model\n",
    "arrangeT.random_smooth_pi(grid.Dist, theta_mu=150)\n",
    "arrangeT.theta_w = pt.tensor(20)\n",
    "\n",
    "# Step 3: Plot the prior of the true mode\n",
    "plt.figure(figsize=(10, 4))\n",
    "grid.plot_maps(pt.exp(arrangeT.logpi), cmap='jet', vmax=1, grid=[1, K])"
   ]
  },
  {
   "cell_type": "code",
   "execution_count": 11,
   "metadata": {
    "scrolled": true
   },
   "outputs": [
    {
     "data": {
      "image/png": "[encoded data removed]",
      "text/plain": [
       "<Figure size 432x288 with 1 Axes>"
      ]
     },
     "metadata": {
      "needs_background": "light"
     },
     "output_type": "display_data"
    }
   ],
   "source": [
    "cluster = np.argmax(arrangeT.logpi, axis=0)\n",
    "grid.plot_maps(cluster, cmap='tab20')"
   ]
  },
  {
   "cell_type": "markdown",
   "metadata": {},
   "source": [
    "### Sample true individual parcellations\n",
    "\n",
    "Here, we generate the true individual parcellations for 10 subjects given by the group prior. In our simulation, we make the boundaries relatively smooth and more individual varibilities."
   ]
  },
  {
   "cell_type": "code",
   "execution_count": 12,
   "metadata": {},
   "outputs": [
    {
     "data": {
      "image/png": "[encoded data removed]",
      "text/plain": [
       "<Figure size 720x288 with 10 Axes>"
      ]
     },
     "metadata": {
      "needs_background": "light"
     },
     "output_type": "display_data"
    }
   ],
   "source": [
    "# Step 4: Generate data by sampling from the above model\n",
    "T = FullModel(arrangeT, emissionT)\n",
    "U = T.arrange.sample(num_subj=num_sub, burnin=30)\n",
    "Y_train = T.emission.sample(U)\n",
    "Y_test = T.emission.sample(U)\n",
    "\n",
    "plt.figure(figsize=(10, 4))\n",
    "grid.plot_maps(U[0:10], cmap='tab20', vmax=K, grid=[2, int(num_sub/2)])"
   ]
  },
  {
   "cell_type": "markdown",
   "metadata": {},
   "source": [
    "### Generate Incomplete data\n",
    "\n",
    "Here, we add some missing regions to mimic the voxel data missing in the real dataset. In general, the missing data happens as a contiguous (voxel) area. It coud be only few or many regions (voxels) data missing. So the `missingdata` is the precentage of the missing voxels."
   ]
  },
  {
   "cell_type": "code",
   "execution_count": 21,
   "metadata": {},
   "outputs": [
    {
     "data": {
      "image/png": "[encoded data removed]",
      "text/plain": [
       "<Figure size 720x288 with 10 Axes>"
      ]
     },
     "metadata": {
      "needs_background": "light"
     },
     "output_type": "display_data"
    }
   ],
   "source": [
    "missingdata = 0.1\n",
    "\n",
    "radius = np.sqrt(missingdata * grid.P/np.pi)\n",
    "centroid = np.random.choice(grid.P, (num_sub,))\n",
    "mask = pt.ones(num_sub, grid.P)\n",
    "mask[pt.where(grid.Dist[centroid] < radius)] = pt.nan\n",
    "Y_train = mask.unsqueeze(1) * Y_train\n",
    "\n",
    "plt.figure(figsize=(10, 4))\n",
    "grid.plot_maps(mask * U, cmap='tab20', vmax=K, grid=[2, int(num_sub / 2)])"
   ]
  },
  {
   "cell_type": "markdown",
   "metadata": {},
   "source": [
    "### Fitting the Incomplete data to the generative model\n",
    "\n",
    "Now, we use these incomplete data to fit our generative model, in the hope of mimicing the situation when fitting the real data."
   ]
  },
  {
   "cell_type": "code",
   "execution_count": 22,
   "metadata": {},
   "outputs": [],
   "source": [
    "# Step 6: Generate new models for fitting\n",
    "# arrangeM = ar.PottsModel(grid.W, K=K)\n",
    "arrangeM = ar.ArrangeIndependent(K=K, P=grid.P, spatial_specific=True, remove_redundancy=False)\n",
    "emissionM = em.MixGaussian(K=K, N=N, P=grid.P, std_V=False)\n",
    "M = FullModel(arrangeM, emissionM)\n",
    "M, ll, theta, Uhat_fit = M.fit_em(Y=Y_train, iter=200, tol=0.00001, fit_arrangement=True)"
   ]
  },
  {
   "cell_type": "code",
   "execution_count": 23,
   "metadata": {},
   "outputs": [
    {
     "data": {
      "text/plain": [
       "<AxesSubplot:title={'center':'True/estimated log sigma2'}>"
      ]
     },
     "execution_count": 23,
     "metadata": {},
     "output_type": "execute_result"
    },
    {
     "data": {
      "image/png": "[encoded data removed]",
      "text/plain": [
       "<Figure size 576x288 with 2 Axes>"
      ]
     },
     "metadata": {
      "needs_background": "light"
     },
     "output_type": "display_data"
    }
   ],
   "source": [
    "from simulate_missingData import matching_params, _plot_diff, _plt_single_param_diff\n",
    "\n",
    "# Step 7: Plot fitting results\n",
    "fig, axs = plt.subplots(1, 2, figsize=(8, 4))\n",
    "# _plot_loglike(axs[0], ll, loglike_true, color='b')\n",
    "\n",
    "true_V = T.emission.V\n",
    "predicted_V = theta[:, M.get_param_indices('emission.V')]\n",
    "idx = matching_params(true_V, predicted_V, once=False)\n",
    "_plot_diff(axs[0], true_V, predicted_V, index=idx, name='V', plot_single=True)\n",
    "\n",
    "ind = M.get_param_indices('emission.sigma2')\n",
    "_plt_single_param_diff(axs[1], np.log(T.emission.sigma2), np.log(theta[:, ind]), name='log sigma2')"
   ]
  },
  {
   "cell_type": "markdown",
   "metadata": {},
   "source": [
    "### Visualization of model recovery results\n",
    "\n",
    "Now, we plot the fitted $\\hat{U}$ for the individuals and see how good the generative model handles the missing data."
   ]
  },
  {
   "cell_type": "code",
   "execution_count": 24,
   "metadata": {},
   "outputs": [
    {
     "data": {
      "image/png": "[encoded data removed]",
      "text/plain": [
       "<Figure size 720x288 with 10 Axes>"
      ]
     },
     "metadata": {
      "needs_background": "light"
     },
     "output_type": "display_data"
    }
   ],
   "source": [
    "plt.figure(figsize=(10, 4))\n",
    "grid.plot_maps(pt.argmax(Uhat_fit, dim=1), cmap='tab20', vmax=K, grid=[2, int(num_sub / 2)])"
   ]
  },
  {
   "cell_type": "code",
   "execution_count": 25,
   "metadata": {},
   "outputs": [
    {
     "data": {
      "image/png": "[encoded data removed]",
      "text/plain": [
       "<Figure size 720x288 with 10 Axes>"
      ]
     },
     "metadata": {
      "needs_background": "light"
     },
     "output_type": "display_data"
    }
   ],
   "source": [
    "plt.figure(figsize=(10, 4))\n",
    "grid.plot_maps(U[0:10], cmap='tab20', vmax=K, grid=[2, int(num_sub/2)])"
   ]
  },
  {
   "cell_type": "code",
   "execution_count": null,
   "metadata": {},
   "outputs": [],
   "source": []
  }
 ],
 "metadata": {
  "kernelspec": {
   "display_name": "Python 3 (ipykernel)",
   "language": "python",
   "name": "python3"
  },
  "language_info": {
   "codemirror_mode": {
    "name": "ipython",
    "version": 3
   },
   "file_extension": ".py",
   "mimetype": "text/x-python",
   "name": "python",
   "nbconvert_exporter": "python",
   "pygments_lexer": "ipython3",
   "version": "3.9.10"
  }
 },
 "nbformat": 4,
 "nbformat_minor": 1
}