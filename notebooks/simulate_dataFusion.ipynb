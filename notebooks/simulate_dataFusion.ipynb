{
 "cells": [
  {
   "cell_type": "markdown",
   "metadata": {
    "collapsed": true
   },
   "source": [
    "# Testing generative framework for fusing datasets\n",
    "\n",
    "This jupyter notebook is to test the generative framework is able to learn multiple datasets simultaneously.\n",
    "\n",
    "<br>"
   ]
  },
  {
   "cell_type": "markdown",
   "metadata": {},
   "source": [
    "## Generate true data from markov random field\n",
    "\n",
    "First, we generate some true individual parcellations $U$s given by a prior. We can fine-tuning the parameters to control how smooth the parcel boundaries are and the individual variablities.\n",
    "\n",
    "<br>"
   ]
  },
  {
   "cell_type": "code",
   "execution_count": 11,
   "metadata": {},
   "outputs": [
    {
     "name": "stdout",
     "output_type": "stream",
     "text": [
      "The autoreload extension is already loaded. To reload it, use:\n",
      "  %reload_ext autoreload\n"
     ]
    }
   ],
   "source": [
    "# dependencies\n",
    "%load_ext autoreload\n",
    "%autoreload 2 \n",
    "import os\n",
    "import sys \n",
    "sys.path.append(os.path.abspath('..'))\n",
    "\n",
    "import numpy as np\n",
    "import torch as pt\n",
    "import matplotlib.pyplot as plt\n",
    "\n",
    "from full_model import FullModel\n",
    "import emissions as em\n",
    "import arrangements as ar\n",
    "import spatial as sp"
   ]
  },
  {
   "cell_type": "markdown",
   "metadata": {},
   "source": [
    "### Plotting the group prior"
   ]
  },
  {
   "cell_type": "code",
   "execution_count": 12,
   "metadata": {},
   "outputs": [
    {
     "data": {
      "image/png": "[encoded data removed]",
      "text/plain": [
       "<Figure size 720x288 with 5 Axes>"
      ]
     },
     "metadata": {
      "needs_background": "light"
     },
     "output_type": "display_data"
    }
   ],
   "source": [
    "K=5\n",
    "N=20\n",
    "num_sub=10\n",
    "max_iter=100\n",
    "sigma2=20\n",
    "width = 30\n",
    "height = 30\n",
    "\n",
    "# Step 1: Create the true model\n",
    "grid = sp.SpatialGrid(width=width, height=height)\n",
    "arrangeT = ar.PottsModel(grid.W, K=K, remove_redundancy=False)\n",
    "emissionT1 = em.MixVMF(K=K, N=N, P=grid.P, uniform_kappa=True)\n",
    "emissionT1.kappa = pt.tensor(sigma2)\n",
    "emissionT2 = em.MixVMF(K=K, N=N, P=grid.P, uniform_kappa=True)\n",
    "emissionT2.kappa = pt.tensor(sigma2)\n",
    "\n",
    "# Step 2: Initialize the parameters of the true model\n",
    "arrangeT.random_smooth_pi(grid.Dist, theta_mu=150)\n",
    "arrangeT.theta_w = pt.tensor(20)\n",
    "\n",
    "# Step 3: Plot the prior of the true mode\n",
    "plt.figure(figsize=(10, 4))\n",
    "grid.plot_maps(pt.exp(arrangeT.logpi), cmap='jet', vmax=1, grid=[1, K])"
   ]
  },
  {
   "cell_type": "code",
   "execution_count": 13,
   "metadata": {
    "scrolled": true
   },
   "outputs": [
    {
     "data": {
      "image/png": "[encoded data removed]",
      "text/plain": [
       "<Figure size 432x288 with 1 Axes>"
      ]
     },
     "metadata": {
      "needs_background": "light"
     },
     "output_type": "display_data"
    }
   ],
   "source": [
    "cluster = np.argmax(arrangeT.logpi, axis=0)\n",
    "grid.plot_maps(cluster, cmap='tab20')"
   ]
  },
  {
   "cell_type": "markdown",
   "metadata": {},
   "source": [
    "### Sample true individual parcellations\n",
    "\n",
    "Here, we generate the true individual parcellations for 10 subjects given by the group prior. In our simulation, we make the boundaries relatively smooth and more individual varibilities. The 10 subjects are splitted into two datasets, the first one contains 3 subjects and the second dataset has 7 subjects."
   ]
  },
  {
   "cell_type": "code",
   "execution_count": 14,
   "metadata": {},
   "outputs": [
    {
     "data": {
      "image/png": "[encoded data removed]",
      "text/plain": [
       "<Figure size 1440x144 with 10 Axes>"
      ]
     },
     "metadata": {
      "needs_background": "light"
     },
     "output_type": "display_data"
    }
   ],
   "source": [
    "# Step 4: Generate data by sampling from the above model\n",
    "import full_model as fm\n",
    "\n",
    "D = []\n",
    "ns = [3, 7]\n",
    "T = fm.FullMultiModel(arrangeT, [emissionT1, emissionT2])\n",
    "\n",
    "U, Y_train = T.sample(num_subj=ns)\n",
    "num_sub = sum(ns)\n",
    "\n",
    "plt.figure(figsize=(20, 2))\n",
    "grid.plot_maps(U, cmap='tab20', vmax=19, grid=[1, int(num_sub)])"
   ]
  },
  {
   "cell_type": "markdown",
   "metadata": {},
   "source": [
    "### Generate multiple datasets for fusing\n",
    "\n",
    "Here, `Y_train` is a list of different datasets given by the number of subjects for the datasets."
   ]
  },
  {
   "cell_type": "code",
   "execution_count": 15,
   "metadata": {},
   "outputs": [],
   "source": [
    "# Step 6: Generate new models for fitting\n",
    "arrangeM = ar.ArrangeIndependent(K=K, P=grid.P, spatial_specific=True, remove_redundancy=False)\n",
    "emissionM1 = em.MixVMF(K=K, N=N, P=grid.P, uniform_kappa=True)\n",
    "emissionM2 = em.MixVMF(K=K, N=N, P=grid.P, uniform_kappa=True)\n",
    "\n",
    "# set params of recovery model to truth\n",
    "arrangeM.logpi = T.arrange.logpi"
   ]
  },
  {
   "cell_type": "markdown",
   "metadata": {},
   "source": [
    "### How to escape from the local maxima?\n",
    "\n",
    "Here, we use the traditional EM routine to fusing multiple dataset. But the log-likelihood could traped in the local maxima as show below. The first `n=3` subjects from dataset 1 has the label misalignment witht the rest `n=7` subjects from the dataset 2. "
   ]
  },
  {
   "cell_type": "code",
   "execution_count": 16,
   "metadata": {},
   "outputs": [
    {
     "data": {
      "image/png": "[encoded data removed]",
      "text/plain": [
       "<Figure size 1440x144 with 10 Axes>"
      ]
     },
     "metadata": {
      "needs_background": "light"
     },
     "output_type": "display_data"
    }
   ],
   "source": [
    "M = fm.FullMultiModel(arrangeM, [emissionM1, emissionM2])\n",
    "M, ll, theta, Uhat_fit, f_lls = M.fit_em_ninits(Y=Y_train, n_inits=1, iter=max_iter, tol=0.001, fit_arrangement=False)\n",
    "\n",
    "# for i in range(len(f_lls)):\n",
    "#     plt.plot(f_lls[i])\n",
    "# # plt.ylim(-20000, 0)\n",
    "\n",
    "plt.figure(figsize=(20, 2))\n",
    "grid.plot_maps(pt.argmax(Uhat_fit, dim=1), cmap='tab20', vmax=19, grid=[1, int(num_sub)])"
   ]
  },
  {
   "cell_type": "markdown",
   "metadata": {},
   "source": [
    "### Strategy 1: giving multiple initilizations and continue learning the model upon the maximum loglikelihood\n",
    "\n",
    "The first strategy to escape from the local maxima is to give many starting parameters, in this case `n_inits=50`, and find the parameters with the maximum log-likelihood among this initilization sets. Then continue learning the full models start with this parameters. "
   ]
  },
  {
   "cell_type": "code",
   "execution_count": 17,
   "metadata": {},
   "outputs": [
    {
     "data": {
      "image/png": "[encoded data removed]",
      "text/plain": [
       "<Figure size 432x288 with 1 Axes>"
      ]
     },
     "metadata": {
      "needs_background": "light"
     },
     "output_type": "display_data"
    },
    {
     "data": {
      "image/png": "[encoded data removed]",
      "text/plain": [
       "<Figure size 1440x144 with 10 Axes>"
      ]
     },
     "metadata": {
      "needs_background": "light"
     },
     "output_type": "display_data"
    }
   ],
   "source": [
    "M = fm.FullMultiModel(arrangeM, [emissionM1, emissionM2])\n",
    "M, ll, theta, Uhat_fit, f_lls = M.fit_em_ninits(Y=Y_train, n_inits=50, iter=max_iter, tol=0.001, fit_arrangement=False)\n",
    "\n",
    "for i in range(len(f_lls)):\n",
    "    plt.plot(f_lls[i])\n",
    "# plt.ylim(-20000, 0)\n",
    "\n",
    "plt.figure(figsize=(20, 2))\n",
    "grid.plot_maps(pt.argmax(Uhat_fit, dim=1), cmap='tab20', vmax=19, grid=[1, int(num_sub)])"
   ]
  },
  {
   "cell_type": "markdown",
   "metadata": {},
   "source": [
    "As we can see here, the predicted $\\hat{\\mathbf{U}}$ is now totally aligned with the ground truth. This is because the model converged to the global maxima.\n",
    "\n",
    "**Drawback** - The performance of this strategy is subject to the choice of the number of initilizations and the first few iterations to determine the parameters which continue learning. So if we set a small number of initilizations, the resultant could still a local maxima. As shown below."
   ]
  },
  {
   "cell_type": "code",
   "execution_count": 18,
   "metadata": {},
   "outputs": [
    {
     "data": {
      "image/png": "[encoded data removed]",
      "text/plain": [
       "<Figure size 432x288 with 1 Axes>"
      ]
     },
     "metadata": {
      "needs_background": "light"
     },
     "output_type": "display_data"
    },
    {
     "data": {
      "image/png": "[encoded data removed]",
      "text/plain": [
       "<Figure size 1440x144 with 10 Axes>"
      ]
     },
     "metadata": {
      "needs_background": "light"
     },
     "output_type": "display_data"
    }
   ],
   "source": [
    "M = fm.FullMultiModel(arrangeM, [emissionM1, emissionM2])\n",
    "M, ll, theta, Uhat_fit, f_lls = M.fit_em_ninits(Y=Y_train, n_inits=10, iter=max_iter, tol=0.001, fit_arrangement=False)\n",
    "\n",
    "for i in range(len(f_lls)):\n",
    "    plt.plot(f_lls[i])\n",
    "# plt.ylim(-20000, 0)\n",
    "\n",
    "plt.figure(figsize=(20, 2))\n",
    "grid.plot_maps(pt.argmax(Uhat_fit, dim=1), cmap='tab20', vmax=19, grid=[1, int(num_sub)])"
   ]
  },
  {
   "cell_type": "markdown",
   "metadata": {},
   "source": [
    "### Strategy 2: Initilizing the emission models parameters from a prior\n",
    "\n",
    "An alternative enchanced method, possibly the best solution, is to generate the starting value from a rough group prior learnt from one or multiple dataset. Then we use this starting parameters to train the generative model. In this case, the model is garantteed to converge to the global maxima and we just initilize one time."
   ]
  },
  {
   "cell_type": "code",
   "execution_count": 19,
   "metadata": {},
   "outputs": [
    {
     "data": {
      "image/png": "[encoded data removed]",
      "text/plain": [
       "<Figure size 1440x144 with 10 Axes>"
      ]
     },
     "metadata": {
      "needs_background": "light"
     },
     "output_type": "display_data"
    }
   ],
   "source": [
    "# Method 1: escape local maxima by inits from prior\n",
    "M = fm.FullMultiModel(arrangeM, [emissionM1, emissionM2])\n",
    "\n",
    "M.pre_train(Y_train, iter=20)\n",
    "M, ll, theta, Uhat_fit = M.fit_em(Y=Y_train, iter=max_iter, tol=0.001, fit_arrangement=False)\n",
    "\n",
    "plt.figure(figsize=(20, 2))\n",
    "grid.plot_maps(pt.argmax(Uhat_fit, dim=1), cmap='tab20', vmax=19, grid=[1, int(num_sub)])"
   ]
  },
  {
   "cell_type": "markdown",
   "metadata": {},
   "source": [
    "As we can see here, the cluster labels from the $\\hat{U}$ are already aligned across subjects, Then we perform cluster matching with the ground true $U$s and compare then."
   ]
  },
  {
   "cell_type": "code",
   "execution_count": 20,
   "metadata": {
    "scrolled": true
   },
   "outputs": [
    {
     "data": {
      "image/png": "[encoded data removed]",
      "text/plain": [
       "<Figure size 1440x144 with 10 Axes>"
      ]
     },
     "metadata": {
      "needs_background": "light"
     },
     "output_type": "display_data"
    },
    {
     "data": {
      "image/png": "[encoded data removed]",
      "text/plain": [
       "<Figure size 1440x144 with 10 Axes>"
      ]
     },
     "metadata": {
      "needs_background": "light"
     },
     "output_type": "display_data"
    }
   ],
   "source": [
    "import evaluation as ev\n",
    "Uhat_fit_matched, U_err = ev.matching_U(U, Uhat_fit)\n",
    "\n",
    "plt.figure(figsize=(20, 2))\n",
    "grid.plot_maps(Uhat_fit_matched, cmap='tab20', vmax=19, grid=[1, int(num_sub)])\n",
    "plt.suptitle(\"Uhat after color matching\")\n",
    "plt.show()\n",
    "\n",
    "plt.figure(figsize=(20, 2))\n",
    "grid.plot_maps(U, cmap='tab20', vmax=19, grid=[1, int(num_sub)])\n",
    "plt.suptitle(\"True Us\")\n",
    "plt.show()"
   ]
  },
  {
   "cell_type": "markdown",
   "metadata": {},
   "source": [
    "## Simulate data fusion on different dataset with different tasks (boundaries are varying)\n",
    "\n",
    "First, we generate two different dataset from $U$s with different task set, which means the underlying boundaries learnt from each dataset could be varying. i.g dataset 1 focuses on motor-related tasks while dataset 2 focuses on visual tasks. Therefore, both two datasets have limited coverage.\n",
    "\n",
    "In this experiment, we simulate above situation and let dataset1 with `subjects=3, tasks=40` and dataset2 with `subjects=7, tasks=20`. Then we randomly select two adjacent clusters from the true $\\mathbf{U}$ and let the true emission models have the same $\\mathbf{v}_k$ of these two regions."
   ]
  },
  {
   "cell_type": "code",
   "execution_count": 91,
   "metadata": {},
   "outputs": [
    {
     "name": "stdout",
     "output_type": "stream",
     "text": [
      "tensor(4) tensor([0])\n",
      "tensor(2) tensor([0])\n"
     ]
    },
    {
     "data": {
      "image/png": "[encoded data removed]",
      "text/plain": [
       "<Figure size 1440x144 with 10 Axes>"
      ]
     },
     "metadata": {
      "needs_background": "light"
     },
     "output_type": "display_data"
    }
   ],
   "source": [
    "from simulate_dataFusion import _compute_adjacency\n",
    "ns = [4, 6]\n",
    "\n",
    "grid = sp.SpatialGrid(width=width, height=height)\n",
    "arrangeT = ar.PottsModel(grid.W, K=K, remove_redundancy=False)\n",
    "arrangeT.random_smooth_pi(grid.Dist, theta_mu=120)\n",
    "arrangeT.theta_w = pt.tensor(20)\n",
    "\n",
    "emissionT1 = em.MixVMF(K=K, N=40, P=grid.P, uniform_kappa=True)\n",
    "emissionT1.kappa = pt.tensor(sigma2)\n",
    "emissionT2 = em.MixVMF(K=K, N=20, P=grid.P, uniform_kappa=True)\n",
    "emissionT2.kappa = pt.tensor(sigma2)\n",
    "    \n",
    "# Making ambiguous boundaries by set the same V_k for two parcels\n",
    "label_map = pt.argmax(arrangeT.logpi, dim=0).reshape(grid.dim)\n",
    "_, base, idx = _compute_adjacency(label_map, 2)\n",
    "print(base, idx)\n",
    "for i in idx:\n",
    "    emissionT1.V[:, i] = emissionT1.V[:, base]\n",
    "\n",
    "_, base, idx = _compute_adjacency(label_map, 2)\n",
    "print(base, idx)\n",
    "for i in idx:\n",
    "    emissionT2.V[:, i] = emissionT2.V[:, base]\n",
    "    \n",
    "T = fm.FullMultiModel(arrangeT, [emissionT1, emissionT2])\n",
    "U, Y_train = T.sample(num_subj=ns)\n",
    "\n",
    "plt.figure(figsize=(20, 2))\n",
    "grid.plot_maps(U, cmap='tab20', vmax=19, grid=[1, 10])"
   ]
  },
  {
   "cell_type": "code",
   "execution_count": 96,
   "metadata": {},
   "outputs": [],
   "source": [
    "arrangeM = ar.ArrangeIndependent(K=K, P=grid.P, spatial_specific=True,remove_redundancy=False)\n",
    "emissionM1 = em.MixVMF(K=K, N=40, P=grid.P, uniform_kappa=True)\n",
    "emissionM2 = em.MixVMF(K=K, N=20, P=grid.P, uniform_kappa=True)\n",
    "\n",
    "# set params of recovery model to truth\n",
    "arrangeM.logpi = T.arrange.logpi\n",
    "M1 = fm.FullModel(arrangeM, emissionM1)\n",
    "M2 = fm.FullModel(arrangeM, emissionM2)\n",
    "M = fm.FullMultiModel(arrangeM, [emissionM1, emissionM2])\n",
    "\n",
    "# Train each dataset separately\n",
    "M1, ll, theta, Uhat_fit_1 = M1.fit_em(Y=Y_train[0], iter=200, tol=0.001, fit_arrangement=True)\n",
    "M2, ll, theta, Uhat_fit_2 = M2.fit_em(Y=Y_train[1], iter=200, tol=0.001, fit_arrangement=True)\n",
    "# Method 1: escape local maxima by inits from prior\n",
    "M.pre_train(Y_train, iter=20)\n",
    "M, ll, theta, Uhat_fit = M.fit_em(Y=Y_train, iter=200, tol=0.001, fit_arrangement=True)"
   ]
  },
  {
   "cell_type": "markdown",
   "metadata": {},
   "source": [
    "### Learning standalone on dataset 1 "
   ]
  },
  {
   "cell_type": "code",
   "execution_count": 97,
   "metadata": {},
   "outputs": [
    {
     "data": {
      "image/png": "[encoded data removed]",
      "text/plain": [
       "<Figure size 1440x144 with 4 Axes>"
      ]
     },
     "metadata": {
      "needs_background": "light"
     },
     "output_type": "display_data"
    }
   ],
   "source": [
    "Uhat_fit_1_match, _ = ev.matching_U(U[0:4], Uhat_fit_1)\n",
    "plt.figure(figsize=(20, 2))\n",
    "grid.plot_maps(Uhat_fit_1_match, cmap='tab20', vmax=19, grid=[1, 10])"
   ]
  },
  {
   "cell_type": "markdown",
   "metadata": {},
   "source": [
    "### Learning standalone on dataset 2"
   ]
  },
  {
   "cell_type": "code",
   "execution_count": 98,
   "metadata": {
    "scrolled": true
   },
   "outputs": [
    {
     "data": {
      "image/png": "[encoded data removed]",
      "text/plain": [
       "<Figure size 1440x144 with 6 Axes>"
      ]
     },
     "metadata": {
      "needs_background": "light"
     },
     "output_type": "display_data"
    }
   ],
   "source": [
    "Uhat_fit_2_match, _ = ev.matching_U(U[4:10], Uhat_fit_2)\n",
    "plt.figure(figsize=(20, 2))\n",
    "grid.plot_maps(Uhat_fit_2_match, cmap='tab20', vmax=19, grid=[1, 10], offset=5)"
   ]
  },
  {
   "cell_type": "markdown",
   "metadata": {},
   "source": [
    "### Learning on dataset fusion on both dataset 1 and 2"
   ]
  },
  {
   "cell_type": "code",
   "execution_count": 99,
   "metadata": {},
   "outputs": [
    {
     "data": {
      "image/png": "[encoded data removed]",
      "text/plain": [
       "<Figure size 1440x144 with 10 Axes>"
      ]
     },
     "metadata": {
      "needs_background": "light"
     },
     "output_type": "display_data"
    }
   ],
   "source": [
    "Uhat_fit_match, _ = ev.matching_U(U, Uhat_fit)\n",
    "plt.figure(figsize=(20, 2))\n",
    "grid.plot_maps(Uhat_fit_match, cmap='tab20', vmax=19, grid=[1, 10])"
   ]
  },
  {
   "cell_type": "code",
   "execution_count": null,
   "metadata": {},
   "outputs": [],
   "source": []
  }
 ],
 "metadata": {
  "kernelspec": {
   "display_name": "Python 3 (ipykernel)",
   "language": "python",
   "name": "python3"
  },
  "language_info": {
   "codemirror_mode": {
    "name": "ipython",
    "version": 3
   },
   "file_extension": ".py",
   "mimetype": "text/x-python",
   "name": "python",
   "nbconvert_exporter": "python",
   "pygments_lexer": "ipython3",
   "version": "3.9.10"
  }
 },
 "nbformat": 4,
 "nbformat_minor": 1
}
