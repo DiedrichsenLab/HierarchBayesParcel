{
 "cells": [
  {
   "cell_type": "markdown",
   "metadata": {
    "collapsed": true
   },
   "source": [
    "# Testing emission models\n",
    "\n",
    "This jupyter notebook is to test different emission models, including a Gaussian mixture, a directional model (VMF), and our novely desinged Gaussian Mixture with exponential signal strength. The main porpuse of this short example is trying to show the three models are correctly fitted via an EM procedure."
   ]
  },
  {
   "cell_type": "markdown",
   "metadata": {},
   "source": [
    "## Emission models description\n",
    "\n",
    "### 1. Gaussian Mixture model (GMM)\n",
    "\n",
    "Under the Gaussian mixture model, we model the emissions as a Gaussian with a parcel-specific mean ($\\mathbf{v}_k$), and with equal isotropic variance across parcels and observations:\n",
    "\n",
    "$$\n",
    "p(\\mathbf{y_i}|u^{(k)};\\theta_E) = \\frac{1}{(2\\pi)^{N/2}(\\sigma^{2})^{N/2}}\\rm{exp}\\{-\\frac{1}{2\\sigma^{2}}(y_{i}-\\mathbf{v}_k)^T(y_{i}-\\mathbf{v}_k)\\}\n",
    "$$\n",
    "\n",
    "Since each data dimension is defined by a Gaussian ditribution, the high-dimensional simulation data is defined in between $\\color{red}{-\\infty}$ to $\\color{red}{+\\infty}$.\n",
    "\n",
    "### 2. von-Mises Fisher Mixture model (VMF)\n",
    "For a $N$-dimensional data $\\mathbf{y} (||\\mathbf{y}||_2=1) $ the probability density function of von Mises-Fisher distribution is defined as following,\n",
    "\n",
    "$$\n",
    "V_N(\\mathbf{y}|\\mathbf{v}_k,\\kappa) = C_N(\\kappa)exp(\\kappa\\mathbf{v}_k^{T}\\mathbf{y})\n",
    "$$\n",
    "\n",
    "where $\\mathbf{v}_k$ denotes the mean direction (unit vectors for each parcels), $\\kappa$ indicates the concentration parameter ($\\kappa\\geqslant0$), which is joint over all parcels. $C_N(\\kappa) = \\frac{\\kappa^{N/2-1}}{(2\\pi)^{N/2}I_{N/2-1}(\\kappa)}$ is the normalization constant where $I_r(.)$ refers to the modified Bessel function of the $r$ order. Because the data for fitting VMF must be normalized, such that $\\color{red}{(||\\mathbf{y}||_2=1)}$, the $N$-dimensional simulation data is then defined on the %N-1% hypershpere's surface with each dimension in the range of $\\color{red}{-1}$ to $\\color{red}{+1}$.\n",
    "\n",
    "### 3. Gaussian Mixture model with exponential signal strength (GMM_exp)\n",
    "\n",
    "Under the Gaussian mixture model, we model the emissions as a Gaussian with a parcel-specific mean ($\\mathbf{v}_k$), and with equal isotropic variance across parcels and observations:\n",
    "\n",
    "$$\n",
    "p(\\mathbf{y_i}|u^{(k)};\\theta_E) = \\frac{1}{(2\\pi)^{N/2}(\\sigma^{2})^{N/2}}\\rm{exp}\\{-\\frac{1}{2\\sigma^{2}}(y_{i}-\\mathbf{v}_k)^T(y_{i}-\\mathbf{v}_k)\\}\n",
    "$$\n",
    "\n",
    "Since each data dimension is defined by a Gaussian ditribution, the high-dimensional simulation data is defined in between $\\color{red}{-\\infty}$ to $\\color{red}{+\\infty}$."
   ]
  },
  {
   "cell_type": "code",
   "execution_count": null,
   "metadata": {},
   "outputs": [],
   "source": []
  }
 ],
 "metadata": {
  "kernelspec": {
   "display_name": "Python 3",
   "language": "python",
   "name": "python3"
  },
  "language_info": {
   "codemirror_mode": {
    "name": "ipython",
    "version": 3
   },
   "file_extension": ".py",
   "mimetype": "text/x-python",
   "name": "python",
   "nbconvert_exporter": "python",
   "pygments_lexer": "ipython3",
   "version": "3.6.6"
  }
 },
 "nbformat": 4,
 "nbformat_minor": 1
}
