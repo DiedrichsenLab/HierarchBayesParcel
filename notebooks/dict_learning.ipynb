{
 "cells": [
  {
   "cell_type": "code",
   "execution_count": 1,
   "id": "4f926d2b",
   "metadata": {},
   "outputs": [],
   "source": [
    "# Preliminaries \n",
    "from mdtb_neocortical import *\n",
    "from sklearn.decomposition import dict_learning, sparse_encode\n",
    "import ipywidgets as widgets       # interactive display\n",
    "%config InlineBackend.figure_format = 'svg' # other available formats are: 'retina', 'png', 'jpeg', 'pdf'\n"
   ]
  },
  {
   "cell_type": "markdown",
   "id": "c37cdd2c",
   "metadata": {},
   "source": [
    "## Quick toy example to test the algorithm\n",
    "Toy example with U ~ Gamma(1,1)"
   ]
  },
  {
   "cell_type": "code",
   "execution_count": 3,
   "id": "d6dac2c8",
   "metadata": {},
   "outputs": [],
   "source": [
    "# Dictonary learning: Toy example with V~normal, U ~ Gamma(2,0.3), Y = UV + eps \n",
    "K = 5 \n",
    "N = 20 \n",
    "P = 100 \n",
    "eps = 1\n",
    "alpha = 2\n",
    "beta = 0.3\n",
    "\n",
    "def random_V(K,N):\n",
    "    V = np.random.normal(0,1,(K,N))\n",
    "    V = V - V.mean(axis=1).reshape(-1,1)\n",
    "    V = V / np.sqrt(np.sum(V**2,axis=1).reshape(-1,1))\n",
    "    return V\n",
    "\n",
    "V = random_V(K,N)\n",
    "U = np.random.gamma(alpha,beta,(P,K))\n",
    "Y = U @ V + np.random.normal(0,eps/np.sqrt(N),(P,N)) #"
   ]
  },
  {
   "cell_type": "code",
   "execution_count": 7,
   "id": "ef174004",
   "metadata": {},
   "outputs": [],
   "source": [
    "# Start the optimization from different starting values to test convergence and local minima \n",
    "num=10\n",
    "Uhat = np.empty((num,P,K))\n",
    "Vhat = np.empty((num,K,N))\n",
    "for i in range(num):\n",
    "    # Determine random starting value \n",
    "    V_init = random_V(K,N)\n",
    "    U_init = sparse_encode(Y,V_init,alpha=1,algorithm='lasso_cd')\n",
    "    Uhat[i,:,:],Vhat[i,:,:],errors = dict_learning (Y,alpha = 1, n_components=5, method='cd',random_state=i,positive_code=True,code_init=U_init, dict_init=V_init)"
   ]
  },
  {
   "cell_type": "code",
   "execution_count": 10,
   "id": "752617b8",
   "metadata": {},
   "outputs": [
    {
     "data": {
      "text/plain": [
       "<matplotlib.image.AxesImage at 0x13274d460>"
      ]
     },
     "execution_count": 10,
     "metadata": {},
     "output_type": "execute_result"
    },
    {
     "data": {
      "image/svg+xml": "<?xml version=\"1.0\" encoding=\"utf-8\" standalone=\"no\"?>\n<!DOCTYPE svg PUBLIC \"-//W3C//DTD SVG 1.1//EN\"\n  \"http://www.w3.org/Graphics/SVG/1.1/DTD/svg11.dtd\">\n<svg height=\"302.878125pt\" version=\"1.1\" viewBox=\"0 0 697.3625 302.878125\" width=\"697.3625pt\" xmlns=\"http://www.w3.org/2000/svg\" xmlns:xlink=\"http://www.w3.org/1999/xlink\">\n <metadata>\n  <rdf:RDF xmlns:cc=\"http://creativecommons.org/ns#\" xmlns:dc=\"http://purl.org/dc/elements/1.1/\" xmlns:rdf=\"http://www.w3.org/1999/02/22-rdf-syntax-ns#\">\n   <cc:Work>\n    <dc:type rdf:resource=\"http://purl.org/dc/dcmitype/StillImage\"/>\n    <dc:date>2021-10-27T19:49:55.506789</dc:date>\n    <dc:format>image/svg+xml</dc:format>\n    <dc:creator>\n     <cc:Agent>\n      <dc:title>Matplotlib v3.4.2, https://matplotlib.org/</dc:title>\n     </cc:Agent>\n    </dc:creator>\n   </cc:Work>\n  </rdf:RDF>\n </metadata>\n <defs>\n  <style type=\"text/css\">*{stroke-linecap:butt;stroke-linejoin:round;}</style>\n </defs>\n <g id=\"figure_1\">\n  <g id=\"patch_1\">\n   <path d=\"M 0 302.878125 \nL 697.3625 302.878125 \nL 697.3625 0 \nL 0 0 \nz\n\" style=\"fill:none;\"/>\n  </g>\n  <g id=\"axes_1\">\n   <g id=\"patch_2\">\n    <path d=\"M 20.5625 130.745455 \nL 324.926136 130.745455 \nL 324.926136 7.2 \nL 20.5625 7.2 \nz\n\" style=\"fill:#ffffff;\"/>\n   </g>\n   <g clip-path=\"url(#pcb93e2afbc)\">\n    <image height=\"124\" id=\"image09a435b846\" transform=\"scale(1 -1)translate(0 -124)\" width=\"305\" x=\"20.5625\" xlink:href=\"data:image/png;base64,\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\" y=\"-6.745455\"/>\n   </g>\n   <g id=\"matplotlib.axis_1\">\n    <g id=\"xtick_1\">\n     <g id=\"line2d_1\">\n      <defs>\n       <path d=\"M 0 0 \nL 0 3.5 \n\" id=\"maf10aef322\" style=\"stroke:#000000;stroke-width:0.8;\"/>\n      </defs>\n      <g>\n       <use style=\"stroke:#000000;stroke-width:0.8;\" x=\"22.084318\" xlink:href=\"#maf10aef322\" y=\"130.745455\"/>\n      </g>\n     </g>\n     <g id=\"text_1\">\n      <!-- 0 -->\n      <g transform=\"translate(18.903068 145.343892)scale(0.1 -0.1)\">\n       <defs>\n        <path d=\"M 2034 4250 \nQ 1547 4250 1301 3770 \nQ 1056 3291 1056 2328 \nQ 1056 1369 1301 889 \nQ 1547 409 2034 409 \nQ 2525 409 2770 889 \nQ 3016 1369 3016 2328 \nQ 3016 3291 2770 3770 \nQ 2525 4250 2034 4250 \nz\nM 2034 4750 \nQ 2819 4750 3233 4129 \nQ 3647 3509 3647 2328 \nQ 3647 1150 3233 529 \nQ 2819 -91 2034 -91 \nQ 1250 -91 836 529 \nQ 422 1150 422 2328 \nQ 422 3509 836 4129 \nQ 1250 4750 2034 4750 \nz\n\" id=\"DejaVuSans-30\" transform=\"scale(0.015625)\"/>\n       </defs>\n       <use xlink:href=\"#DejaVuSans-30\"/>\n      </g>\n     </g>\n    </g>\n    <g id=\"xtick_2\">\n     <g id=\"line2d_2\">\n      <g>\n       <use style=\"stroke:#000000;stroke-width:0.8;\" x=\"82.957045\" xlink:href=\"#maf10aef322\" y=\"130.745455\"/>\n      </g>\n     </g>\n     <g id=\"text_2\">\n      <!-- 20 -->\n      <g transform=\"translate(76.594545 145.343892)scale(0.1 -0.1)\">\n       <defs>\n        <path d=\"M 1228 531 \nL 3431 531 \nL 3431 0 \nL 469 0 \nL 469 531 \nQ 828 903 1448 1529 \nQ 2069 2156 2228 2338 \nQ 2531 2678 2651 2914 \nQ 2772 3150 2772 3378 \nQ 2772 3750 2511 3984 \nQ 2250 4219 1831 4219 \nQ 1534 4219 1204 4116 \nQ 875 4013 500 3803 \nL 500 4441 \nQ 881 4594 1212 4672 \nQ 1544 4750 1819 4750 \nQ 2544 4750 2975 4387 \nQ 3406 4025 3406 3419 \nQ 3406 3131 3298 2873 \nQ 3191 2616 2906 2266 \nQ 2828 2175 2409 1742 \nQ 1991 1309 1228 531 \nz\n\" id=\"DejaVuSans-32\" transform=\"scale(0.015625)\"/>\n       </defs>\n       <use xlink:href=\"#DejaVuSans-32\"/>\n       <use x=\"63.623047\" xlink:href=\"#DejaVuSans-30\"/>\n      </g>\n     </g>\n    </g>\n    <g id=\"xtick_3\">\n     <g id=\"line2d_3\">\n      <g>\n       <use style=\"stroke:#000000;stroke-width:0.8;\" x=\"143.829773\" xlink:href=\"#maf10aef322\" y=\"130.745455\"/>\n      </g>\n     </g>\n     <g id=\"text_3\">\n      <!-- 40 -->\n      <g transform=\"translate(137.467273 145.343892)scale(0.1 -0.1)\">\n       <defs>\n        <path d=\"M 2419 4116 \nL 825 1625 \nL 2419 1625 \nL 2419 4116 \nz\nM 2253 4666 \nL 3047 4666 \nL 3047 1625 \nL 3713 1625 \nL 3713 1100 \nL 3047 1100 \nL 3047 0 \nL 2419 0 \nL 2419 1100 \nL 313 1100 \nL 313 1709 \nL 2253 4666 \nz\n\" id=\"DejaVuSans-34\" transform=\"scale(0.015625)\"/>\n       </defs>\n       <use xlink:href=\"#DejaVuSans-34\"/>\n       <use x=\"63.623047\" xlink:href=\"#DejaVuSans-30\"/>\n      </g>\n     </g>\n    </g>\n    <g id=\"xtick_4\">\n     <g id=\"line2d_4\">\n      <g>\n       <use style=\"stroke:#000000;stroke-width:0.8;\" x=\"204.7025\" xlink:href=\"#maf10aef322\" y=\"130.745455\"/>\n      </g>\n     </g>\n     <g id=\"text_4\">\n      <!-- 60 -->\n      <g transform=\"translate(198.34 145.343892)scale(0.1 -0.1)\">\n       <defs>\n        <path d=\"M 2113 2584 \nQ 1688 2584 1439 2293 \nQ 1191 2003 1191 1497 \nQ 1191 994 1439 701 \nQ 1688 409 2113 409 \nQ 2538 409 2786 701 \nQ 3034 994 3034 1497 \nQ 3034 2003 2786 2293 \nQ 2538 2584 2113 2584 \nz\nM 3366 4563 \nL 3366 3988 \nQ 3128 4100 2886 4159 \nQ 2644 4219 2406 4219 \nQ 1781 4219 1451 3797 \nQ 1122 3375 1075 2522 \nQ 1259 2794 1537 2939 \nQ 1816 3084 2150 3084 \nQ 2853 3084 3261 2657 \nQ 3669 2231 3669 1497 \nQ 3669 778 3244 343 \nQ 2819 -91 2113 -91 \nQ 1303 -91 875 529 \nQ 447 1150 447 2328 \nQ 447 3434 972 4092 \nQ 1497 4750 2381 4750 \nQ 2619 4750 2861 4703 \nQ 3103 4656 3366 4563 \nz\n\" id=\"DejaVuSans-36\" transform=\"scale(0.015625)\"/>\n       </defs>\n       <use xlink:href=\"#DejaVuSans-36\"/>\n       <use x=\"63.623047\" xlink:href=\"#DejaVuSans-30\"/>\n      </g>\n     </g>\n    </g>\n    <g id=\"xtick_5\">\n     <g id=\"line2d_5\">\n      <g>\n       <use style=\"stroke:#000000;stroke-width:0.8;\" x=\"265.575227\" xlink:href=\"#maf10aef322\" y=\"130.745455\"/>\n      </g>\n     </g>\n     <g id=\"text_5\">\n      <!-- 80 -->\n      <g transform=\"translate(259.212727 145.343892)scale(0.1 -0.1)\">\n       <defs>\n        <path d=\"M 2034 2216 \nQ 1584 2216 1326 1975 \nQ 1069 1734 1069 1313 \nQ 1069 891 1326 650 \nQ 1584 409 2034 409 \nQ 2484 409 2743 651 \nQ 3003 894 3003 1313 \nQ 3003 1734 2745 1975 \nQ 2488 2216 2034 2216 \nz\nM 1403 2484 \nQ 997 2584 770 2862 \nQ 544 3141 544 3541 \nQ 544 4100 942 4425 \nQ 1341 4750 2034 4750 \nQ 2731 4750 3128 4425 \nQ 3525 4100 3525 3541 \nQ 3525 3141 3298 2862 \nQ 3072 2584 2669 2484 \nQ 3125 2378 3379 2068 \nQ 3634 1759 3634 1313 \nQ 3634 634 3220 271 \nQ 2806 -91 2034 -91 \nQ 1263 -91 848 271 \nQ 434 634 434 1313 \nQ 434 1759 690 2068 \nQ 947 2378 1403 2484 \nz\nM 1172 3481 \nQ 1172 3119 1398 2916 \nQ 1625 2713 2034 2713 \nQ 2441 2713 2670 2916 \nQ 2900 3119 2900 3481 \nQ 2900 3844 2670 4047 \nQ 2441 4250 2034 4250 \nQ 1625 4250 1398 4047 \nQ 1172 3844 1172 3481 \nz\n\" id=\"DejaVuSans-38\" transform=\"scale(0.015625)\"/>\n       </defs>\n       <use xlink:href=\"#DejaVuSans-38\"/>\n       <use x=\"63.623047\" xlink:href=\"#DejaVuSans-30\"/>\n      </g>\n     </g>\n    </g>\n   </g>\n   <g id=\"matplotlib.axis_2\">\n    <g id=\"ytick_1\">\n     <g id=\"line2d_6\">\n      <defs>\n       <path d=\"M 0 0 \nL -3.5 0 \n\" id=\"med5e45d0aa\" style=\"stroke:#000000;stroke-width:0.8;\"/>\n      </defs>\n      <g>\n       <use style=\"stroke:#000000;stroke-width:0.8;\" x=\"20.5625\" xlink:href=\"#med5e45d0aa\" y=\"19.554545\"/>\n      </g>\n     </g>\n     <g id=\"text_6\">\n      <!-- 0 -->\n      <g transform=\"translate(7.2 23.353764)scale(0.1 -0.1)\">\n       <use xlink:href=\"#DejaVuSans-30\"/>\n      </g>\n     </g>\n    </g>\n    <g id=\"ytick_2\">\n     <g id=\"line2d_7\">\n      <g>\n       <use style=\"stroke:#000000;stroke-width:0.8;\" x=\"20.5625\" xlink:href=\"#med5e45d0aa\" y=\"44.263636\"/>\n      </g>\n     </g>\n     <g id=\"text_7\">\n      <!-- 1 -->\n      <g transform=\"translate(7.2 48.062855)scale(0.1 -0.1)\">\n       <defs>\n        <path d=\"M 794 531 \nL 1825 531 \nL 1825 4091 \nL 703 3866 \nL 703 4441 \nL 1819 4666 \nL 2450 4666 \nL 2450 531 \nL 3481 531 \nL 3481 0 \nL 794 0 \nL 794 531 \nz\n\" id=\"DejaVuSans-31\" transform=\"scale(0.015625)\"/>\n       </defs>\n       <use xlink:href=\"#DejaVuSans-31\"/>\n      </g>\n     </g>\n    </g>\n    <g id=\"ytick_3\">\n     <g id=\"line2d_8\">\n      <g>\n       <use style=\"stroke:#000000;stroke-width:0.8;\" x=\"20.5625\" xlink:href=\"#med5e45d0aa\" y=\"68.972727\"/>\n      </g>\n     </g>\n     <g id=\"text_8\">\n      <!-- 2 -->\n      <g transform=\"translate(7.2 72.771946)scale(0.1 -0.1)\">\n       <use xlink:href=\"#DejaVuSans-32\"/>\n      </g>\n     </g>\n    </g>\n    <g id=\"ytick_4\">\n     <g id=\"line2d_9\">\n      <g>\n       <use style=\"stroke:#000000;stroke-width:0.8;\" x=\"20.5625\" xlink:href=\"#med5e45d0aa\" y=\"93.681818\"/>\n      </g>\n     </g>\n     <g id=\"text_9\">\n      <!-- 3 -->\n      <g transform=\"translate(7.2 97.481037)scale(0.1 -0.1)\">\n       <defs>\n        <path d=\"M 2597 2516 \nQ 3050 2419 3304 2112 \nQ 3559 1806 3559 1356 \nQ 3559 666 3084 287 \nQ 2609 -91 1734 -91 \nQ 1441 -91 1130 -33 \nQ 819 25 488 141 \nL 488 750 \nQ 750 597 1062 519 \nQ 1375 441 1716 441 \nQ 2309 441 2620 675 \nQ 2931 909 2931 1356 \nQ 2931 1769 2642 2001 \nQ 2353 2234 1838 2234 \nL 1294 2234 \nL 1294 2753 \nL 1863 2753 \nQ 2328 2753 2575 2939 \nQ 2822 3125 2822 3475 \nQ 2822 3834 2567 4026 \nQ 2313 4219 1838 4219 \nQ 1578 4219 1281 4162 \nQ 984 4106 628 3988 \nL 628 4550 \nQ 988 4650 1302 4700 \nQ 1616 4750 1894 4750 \nQ 2613 4750 3031 4423 \nQ 3450 4097 3450 3541 \nQ 3450 3153 3228 2886 \nQ 3006 2619 2597 2516 \nz\n\" id=\"DejaVuSans-33\" transform=\"scale(0.015625)\"/>\n       </defs>\n       <use xlink:href=\"#DejaVuSans-33\"/>\n      </g>\n     </g>\n    </g>\n    <g id=\"ytick_5\">\n     <g id=\"line2d_10\">\n      <g>\n       <use style=\"stroke:#000000;stroke-width:0.8;\" x=\"20.5625\" xlink:href=\"#med5e45d0aa\" y=\"118.390909\"/>\n      </g>\n     </g>\n     <g id=\"text_10\">\n      <!-- 4 -->\n      <g transform=\"translate(7.2 122.190128)scale(0.1 -0.1)\">\n       <use xlink:href=\"#DejaVuSans-34\"/>\n      </g>\n     </g>\n    </g>\n   </g>\n   <g id=\"patch_3\">\n    <path d=\"M 20.5625 130.745455 \nL 20.5625 7.2 \n\" style=\"fill:none;stroke:#000000;stroke-linecap:square;stroke-linejoin:miter;stroke-width:0.8;\"/>\n   </g>\n   <g id=\"patch_4\">\n    <path d=\"M 324.926136 130.745455 \nL 324.926136 7.2 \n\" style=\"fill:none;stroke:#000000;stroke-linecap:square;stroke-linejoin:miter;stroke-width:0.8;\"/>\n   </g>\n   <g id=\"patch_5\">\n    <path d=\"M 20.5625 130.745455 \nL 324.926136 130.745455 \n\" style=\"fill:none;stroke:#000000;stroke-linecap:square;stroke-linejoin:miter;stroke-width:0.8;\"/>\n   </g>\n   <g id=\"patch_6\">\n    <path d=\"M 20.5625 7.2 \nL 324.926136 7.2 \n\" style=\"fill:none;stroke:#000000;stroke-linecap:square;stroke-linejoin:miter;stroke-width:0.8;\"/>\n   </g>\n  </g>\n  <g id=\"axes_2\">\n   <g id=\"patch_7\">\n    <path d=\"M 385.798864 130.745455 \nL 690.1625 130.745455 \nL 690.1625 7.2 \nL 385.798864 7.2 \nz\n\" style=\"fill:#ffffff;\"/>\n   </g>\n   <g clip-path=\"url(#pcf9773de87)\">\n    <image height=\"124\" id=\"image59bd1f0186\" transform=\"scale(1 -1)translate(0 -124)\" width=\"305\" x=\"385.798864\" xlink:href=\"data:image/png;base64,\niVBORw0KGgoAAAANSUhEUgAAATEAAAB8CAYAAAAB1IduAAAEDklEQVR4nO3dO2ueBRjG8ftN3hzsIbVVo9VotS14oIJYECuCOLgEhFLcBD+AOEoHEWc/gOKq4OAmSAd107VbpbVxqFFK2/RAmqQmTZukDn6D+x3kgt9vv3h4Cc8/z3YPXjnzyYNqWr50oDutfQtj7W1V1eobG+3toa/7z7738XJ7O/P+7fa2qur+sUPt7eTClfb2+vzh9nb3ta32tqpqbW7Y3m48Pmhv7x7ZbG+HVyfb26qqncn2K1mn539ob7/68mR7e/Db8+1tVdXqd4+0t6OVBOB/JmJANBEDookYEE3EgGgiBkQTMSCaiAHRRAyIJmJANBEDookYEE3EgGgiBkQTMSCaiAHRRAyIJmJANBEDookYEE3EgGgiBkQTMSCaiAHRhjNfzLTHe4fb7e3VD9bb26qqAz/ubm839++0t9cuzra3k8f7x4arqv481f+f8+z3T7e3K+/0/1Zn3/qmva2qmn/7vfZ2c25fe3vvfP9o79pc/2hvVdXKS/33ahR35vpHexc+e3G0h//en/oSA6KJGBBNxIBoIgZEEzEgmogB0UQMiCZiQDQRA6KJGBBNxIBoIgZEEzEgmogB0UQMiCZiQDQRA6KJGBBNxIBoIgZEEzEgmogB0UQMiCZiQLTh8vOT7fHs2X/a2/Fze9rbqqr1J/rbscv9dj8Y9A+MTv91u72tqqqJh9vTqVt329v7G9Pt7c/rE+1tVdX1Nx9rb1eP9J979PPz7e3U8aP9B1fVysvj7e2F9Sfb26d+3Wpv95y+3N5WVV347Zn21pcYEE3EgGgiBkQTMSCaiAHRRAyIJmJANBEDookYEE3EgGgiBkQTMSCaiAHRRAyIJmJANBEDookYEE3EgGgiBkQTMSCaiAHRRAyIJmJAtOGgf2quFt/d1d4e+mmj/+CqunRyqr3dtTToP3jYvzs5WFnrP7eq9lycbW/Hb91ob6cXZ9rbxRP9u5FVVVOrO+3to+f6f+e/PzzW3k7caU//M9xsTz+d/aW9PTXxans7OTZCSKqqRnglfYkB0UQMiCZiQDQRA6KJGBBNxIBoIgZEEzEgmogB0UQMiCZiQDQRA6KJGBBNxIBoIgZEEzEgmogB0UQMiCZiQDQRA6KJGBBNxIBoIgZEEzEg2nBrd3882O5vL3802rHNnRsT7e3N1/sHcGuE6da1pf64qqZvHm5vl1872N7uWur/6BemrrS3VVWD/u3cGr/XH+//o/+bH1rqH7+tqtqe6h+lPnPiufZ2Yq3/Qi/c6B92rqraO7fa3voSA6KJGBBNxIBoIgZEEzEgmogB0UQMiCZiQDQRA6KJGBBNxIBoIgZEEzEgmogB0UQMiCZiQDQRA6KJGBBNxIBoIgZEEzEgmogB0UQMiCZiQLR/ActKjN1Fhpl6AAAAAElFTkSuQmCC\" y=\"-6.745455\"/>\n   </g>\n   <g id=\"matplotlib.axis_3\">\n    <g id=\"xtick_6\">\n     <g id=\"line2d_11\">\n      <g>\n       <use style=\"stroke:#000000;stroke-width:0.8;\" x=\"393.407955\" xlink:href=\"#maf10aef322\" y=\"130.745455\"/>\n      </g>\n     </g>\n     <g id=\"text_11\">\n      <!-- 0.0 -->\n      <g transform=\"translate(385.456392 145.343892)scale(0.1 -0.1)\">\n       <defs>\n        <path d=\"M 684 794 \nL 1344 794 \nL 1344 0 \nL 684 0 \nL 684 794 \nz\n\" id=\"DejaVuSans-2e\" transform=\"scale(0.015625)\"/>\n       </defs>\n       <use xlink:href=\"#DejaVuSans-30\"/>\n       <use x=\"63.623047\" xlink:href=\"#DejaVuSans-2e\"/>\n       <use x=\"95.410156\" xlink:href=\"#DejaVuSans-30\"/>\n      </g>\n     </g>\n    </g>\n    <g id=\"xtick_7\">\n     <g id=\"line2d_12\">\n      <g>\n       <use style=\"stroke:#000000;stroke-width:0.8;\" x=\"431.453409\" xlink:href=\"#maf10aef322\" y=\"130.745455\"/>\n      </g>\n     </g>\n     <g id=\"text_12\">\n      <!-- 2.5 -->\n      <g transform=\"translate(423.501847 145.343892)scale(0.1 -0.1)\">\n       <defs>\n        <path d=\"M 691 4666 \nL 3169 4666 \nL 3169 4134 \nL 1269 4134 \nL 1269 2991 \nQ 1406 3038 1543 3061 \nQ 1681 3084 1819 3084 \nQ 2600 3084 3056 2656 \nQ 3513 2228 3513 1497 \nQ 3513 744 3044 326 \nQ 2575 -91 1722 -91 \nQ 1428 -91 1123 -41 \nQ 819 9 494 109 \nL 494 744 \nQ 775 591 1075 516 \nQ 1375 441 1709 441 \nQ 2250 441 2565 725 \nQ 2881 1009 2881 1497 \nQ 2881 1984 2565 2268 \nQ 2250 2553 1709 2553 \nQ 1456 2553 1204 2497 \nQ 953 2441 691 2322 \nL 691 4666 \nz\n\" id=\"DejaVuSans-35\" transform=\"scale(0.015625)\"/>\n       </defs>\n       <use xlink:href=\"#DejaVuSans-32\"/>\n       <use x=\"63.623047\" xlink:href=\"#DejaVuSans-2e\"/>\n       <use x=\"95.410156\" xlink:href=\"#DejaVuSans-35\"/>\n      </g>\n     </g>\n    </g>\n    <g id=\"xtick_8\">\n     <g id=\"line2d_13\">\n      <g>\n       <use style=\"stroke:#000000;stroke-width:0.8;\" x=\"469.498864\" xlink:href=\"#maf10aef322\" y=\"130.745455\"/>\n      </g>\n     </g>\n     <g id=\"text_13\">\n      <!-- 5.0 -->\n      <g transform=\"translate(461.547301 145.343892)scale(0.1 -0.1)\">\n       <use xlink:href=\"#DejaVuSans-35\"/>\n       <use x=\"63.623047\" xlink:href=\"#DejaVuSans-2e\"/>\n       <use x=\"95.410156\" xlink:href=\"#DejaVuSans-30\"/>\n      </g>\n     </g>\n    </g>\n    <g id=\"xtick_9\">\n     <g id=\"line2d_14\">\n      <g>\n       <use style=\"stroke:#000000;stroke-width:0.8;\" x=\"507.544318\" xlink:href=\"#maf10aef322\" y=\"130.745455\"/>\n      </g>\n     </g>\n     <g id=\"text_14\">\n      <!-- 7.5 -->\n      <g transform=\"translate(499.592756 145.343892)scale(0.1 -0.1)\">\n       <defs>\n        <path d=\"M 525 4666 \nL 3525 4666 \nL 3525 4397 \nL 1831 0 \nL 1172 0 \nL 2766 4134 \nL 525 4134 \nL 525 4666 \nz\n\" id=\"DejaVuSans-37\" transform=\"scale(0.015625)\"/>\n       </defs>\n       <use xlink:href=\"#DejaVuSans-37\"/>\n       <use x=\"63.623047\" xlink:href=\"#DejaVuSans-2e\"/>\n       <use x=\"95.410156\" xlink:href=\"#DejaVuSans-35\"/>\n      </g>\n     </g>\n    </g>\n    <g id=\"xtick_10\">\n     <g id=\"line2d_15\">\n      <g>\n       <use style=\"stroke:#000000;stroke-width:0.8;\" x=\"545.589773\" xlink:href=\"#maf10aef322\" y=\"130.745455\"/>\n      </g>\n     </g>\n     <g id=\"text_15\">\n      <!-- 10.0 -->\n      <g transform=\"translate(534.45696 145.343892)scale(0.1 -0.1)\">\n       <use xlink:href=\"#DejaVuSans-31\"/>\n       <use x=\"63.623047\" xlink:href=\"#DejaVuSans-30\"/>\n       <use x=\"127.246094\" xlink:href=\"#DejaVuSans-2e\"/>\n       <use x=\"159.033203\" xlink:href=\"#DejaVuSans-30\"/>\n      </g>\n     </g>\n    </g>\n    <g id=\"xtick_11\">\n     <g id=\"line2d_16\">\n      <g>\n       <use style=\"stroke:#000000;stroke-width:0.8;\" x=\"583.635227\" xlink:href=\"#maf10aef322\" y=\"130.745455\"/>\n      </g>\n     </g>\n     <g id=\"text_16\">\n      <!-- 12.5 -->\n      <g transform=\"translate(572.502415 145.343892)scale(0.1 -0.1)\">\n       <use xlink:href=\"#DejaVuSans-31\"/>\n       <use x=\"63.623047\" xlink:href=\"#DejaVuSans-32\"/>\n       <use x=\"127.246094\" xlink:href=\"#DejaVuSans-2e\"/>\n       <use x=\"159.033203\" xlink:href=\"#DejaVuSans-35\"/>\n      </g>\n     </g>\n    </g>\n    <g id=\"xtick_12\">\n     <g id=\"line2d_17\">\n      <g>\n       <use style=\"stroke:#000000;stroke-width:0.8;\" x=\"621.680682\" xlink:href=\"#maf10aef322\" y=\"130.745455\"/>\n      </g>\n     </g>\n     <g id=\"text_17\">\n      <!-- 15.0 -->\n      <g transform=\"translate(610.547869 145.343892)scale(0.1 -0.1)\">\n       <use xlink:href=\"#DejaVuSans-31\"/>\n       <use x=\"63.623047\" xlink:href=\"#DejaVuSans-35\"/>\n       <use x=\"127.246094\" xlink:href=\"#DejaVuSans-2e\"/>\n       <use x=\"159.033203\" xlink:href=\"#DejaVuSans-30\"/>\n      </g>\n     </g>\n    </g>\n    <g id=\"xtick_13\">\n     <g id=\"line2d_18\">\n      <g>\n       <use style=\"stroke:#000000;stroke-width:0.8;\" x=\"659.726136\" xlink:href=\"#maf10aef322\" y=\"130.745455\"/>\n      </g>\n     </g>\n     <g id=\"text_18\">\n      <!-- 17.5 -->\n      <g transform=\"translate(648.593324 145.343892)scale(0.1 -0.1)\">\n       <use xlink:href=\"#DejaVuSans-31\"/>\n       <use x=\"63.623047\" xlink:href=\"#DejaVuSans-37\"/>\n       <use x=\"127.246094\" xlink:href=\"#DejaVuSans-2e\"/>\n       <use x=\"159.033203\" xlink:href=\"#DejaVuSans-35\"/>\n      </g>\n     </g>\n    </g>\n   </g>\n   <g id=\"matplotlib.axis_4\">\n    <g id=\"ytick_6\">\n     <g id=\"line2d_19\">\n      <g>\n       <use style=\"stroke:#000000;stroke-width:0.8;\" x=\"385.798864\" xlink:href=\"#med5e45d0aa\" y=\"19.554545\"/>\n      </g>\n     </g>\n     <g id=\"text_19\">\n      <!-- 0 -->\n      <g transform=\"translate(372.436364 23.353764)scale(0.1 -0.1)\">\n       <use xlink:href=\"#DejaVuSans-30\"/>\n      </g>\n     </g>\n    </g>\n    <g id=\"ytick_7\">\n     <g id=\"line2d_20\">\n      <g>\n       <use style=\"stroke:#000000;stroke-width:0.8;\" x=\"385.798864\" xlink:href=\"#med5e45d0aa\" y=\"44.263636\"/>\n      </g>\n     </g>\n     <g id=\"text_20\">\n      <!-- 1 -->\n      <g transform=\"translate(372.436364 48.062855)scale(0.1 -0.1)\">\n       <use xlink:href=\"#DejaVuSans-31\"/>\n      </g>\n     </g>\n    </g>\n    <g id=\"ytick_8\">\n     <g id=\"line2d_21\">\n      <g>\n       <use style=\"stroke:#000000;stroke-width:0.8;\" x=\"385.798864\" xlink:href=\"#med5e45d0aa\" y=\"68.972727\"/>\n      </g>\n     </g>\n     <g id=\"text_21\">\n      <!-- 2 -->\n      <g transform=\"translate(372.436364 72.771946)scale(0.1 -0.1)\">\n       <use xlink:href=\"#DejaVuSans-32\"/>\n      </g>\n     </g>\n    </g>\n    <g id=\"ytick_9\">\n     <g id=\"line2d_22\">\n      <g>\n       <use style=\"stroke:#000000;stroke-width:0.8;\" x=\"385.798864\" xlink:href=\"#med5e45d0aa\" y=\"93.681818\"/>\n      </g>\n     </g>\n     <g id=\"text_22\">\n      <!-- 3 -->\n      <g transform=\"translate(372.436364 97.481037)scale(0.1 -0.1)\">\n       <use xlink:href=\"#DejaVuSans-33\"/>\n      </g>\n     </g>\n    </g>\n    <g id=\"ytick_10\">\n     <g id=\"line2d_23\">\n      <g>\n       <use style=\"stroke:#000000;stroke-width:0.8;\" x=\"385.798864\" xlink:href=\"#med5e45d0aa\" y=\"118.390909\"/>\n      </g>\n     </g>\n     <g id=\"text_23\">\n      <!-- 4 -->\n      <g transform=\"translate(372.436364 122.190128)scale(0.1 -0.1)\">\n       <use xlink:href=\"#DejaVuSans-34\"/>\n      </g>\n     </g>\n    </g>\n   </g>\n   <g id=\"patch_8\">\n    <path d=\"M 385.798864 130.745455 \nL 385.798864 7.2 \n\" style=\"fill:none;stroke:#000000;stroke-linecap:square;stroke-linejoin:miter;stroke-width:0.8;\"/>\n   </g>\n   <g id=\"patch_9\">\n    <path d=\"M 690.1625 130.745455 \nL 690.1625 7.2 \n\" style=\"fill:none;stroke:#000000;stroke-linecap:square;stroke-linejoin:miter;stroke-width:0.8;\"/>\n   </g>\n   <g id=\"patch_10\">\n    <path d=\"M 385.798864 130.745455 \nL 690.1625 130.745455 \n\" style=\"fill:none;stroke:#000000;stroke-linecap:square;stroke-linejoin:miter;stroke-width:0.8;\"/>\n   </g>\n   <g id=\"patch_11\">\n    <path d=\"M 385.798864 7.2 \nL 690.1625 7.2 \n\" style=\"fill:none;stroke:#000000;stroke-linecap:square;stroke-linejoin:miter;stroke-width:0.8;\"/>\n   </g>\n  </g>\n  <g id=\"axes_3\">\n   <g id=\"patch_12\">\n    <path d=\"M 20.5625 279 \nL 324.926136 279 \nL 324.926136 155.454545 \nL 20.5625 155.454545 \nz\n\" style=\"fill:#ffffff;\"/>\n   </g>\n   <g clip-path=\"url(#p13ae618fcb)\">\n    <image height=\"124\" id=\"imagead89318f06\" transform=\"scale(1 -1)translate(0 -124)\" width=\"305\" x=\"20.5625\" xlink:href=\"data:image/png;base64,\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\" y=\"-155\"/>\n   </g>\n   <g id=\"matplotlib.axis_5\">\n    <g id=\"xtick_14\">\n     <g id=\"line2d_24\">\n      <g>\n       <use style=\"stroke:#000000;stroke-width:0.8;\" x=\"22.084318\" xlink:href=\"#maf10aef322\" y=\"279\"/>\n      </g>\n     </g>\n     <g id=\"text_24\">\n      <!-- 0 -->\n      <g transform=\"translate(18.903068 293.598437)scale(0.1 -0.1)\">\n       <use xlink:href=\"#DejaVuSans-30\"/>\n      </g>\n     </g>\n    </g>\n    <g id=\"xtick_15\">\n     <g id=\"line2d_25\">\n      <g>\n       <use style=\"stroke:#000000;stroke-width:0.8;\" x=\"82.957045\" xlink:href=\"#maf10aef322\" y=\"279\"/>\n      </g>\n     </g>\n     <g id=\"text_25\">\n      <!-- 20 -->\n      <g transform=\"translate(76.594545 293.598437)scale(0.1 -0.1)\">\n       <use xlink:href=\"#DejaVuSans-32\"/>\n       <use x=\"63.623047\" xlink:href=\"#DejaVuSans-30\"/>\n      </g>\n     </g>\n    </g>\n    <g id=\"xtick_16\">\n     <g id=\"line2d_26\">\n      <g>\n       <use style=\"stroke:#000000;stroke-width:0.8;\" x=\"143.829773\" xlink:href=\"#maf10aef322\" y=\"279\"/>\n      </g>\n     </g>\n     <g id=\"text_26\">\n      <!-- 40 -->\n      <g transform=\"translate(137.467273 293.598437)scale(0.1 -0.1)\">\n       <use xlink:href=\"#DejaVuSans-34\"/>\n       <use x=\"63.623047\" xlink:href=\"#DejaVuSans-30\"/>\n      </g>\n     </g>\n    </g>\n    <g id=\"xtick_17\">\n     <g id=\"line2d_27\">\n      <g>\n       <use style=\"stroke:#000000;stroke-width:0.8;\" x=\"204.7025\" xlink:href=\"#maf10aef322\" y=\"279\"/>\n      </g>\n     </g>\n     <g id=\"text_27\">\n      <!-- 60 -->\n      <g transform=\"translate(198.34 293.598437)scale(0.1 -0.1)\">\n       <use xlink:href=\"#DejaVuSans-36\"/>\n       <use x=\"63.623047\" xlink:href=\"#DejaVuSans-30\"/>\n      </g>\n     </g>\n    </g>\n    <g id=\"xtick_18\">\n     <g id=\"line2d_28\">\n      <g>\n       <use style=\"stroke:#000000;stroke-width:0.8;\" x=\"265.575227\" xlink:href=\"#maf10aef322\" y=\"279\"/>\n      </g>\n     </g>\n     <g id=\"text_28\">\n      <!-- 80 -->\n      <g transform=\"translate(259.212727 293.598437)scale(0.1 -0.1)\">\n       <use xlink:href=\"#DejaVuSans-38\"/>\n       <use x=\"63.623047\" xlink:href=\"#DejaVuSans-30\"/>\n      </g>\n     </g>\n    </g>\n   </g>\n   <g id=\"matplotlib.axis_6\">\n    <g id=\"ytick_11\">\n     <g id=\"line2d_29\">\n      <g>\n       <use style=\"stroke:#000000;stroke-width:0.8;\" x=\"20.5625\" xlink:href=\"#med5e45d0aa\" y=\"167.809091\"/>\n      </g>\n     </g>\n     <g id=\"text_29\">\n      <!-- 0 -->\n      <g transform=\"translate(7.2 171.60831)scale(0.1 -0.1)\">\n       <use xlink:href=\"#DejaVuSans-30\"/>\n      </g>\n     </g>\n    </g>\n    <g id=\"ytick_12\">\n     <g id=\"line2d_30\">\n      <g>\n       <use style=\"stroke:#000000;stroke-width:0.8;\" x=\"20.5625\" xlink:href=\"#med5e45d0aa\" y=\"192.518182\"/>\n      </g>\n     </g>\n     <g id=\"text_30\">\n      <!-- 1 -->\n      <g transform=\"translate(7.2 196.317401)scale(0.1 -0.1)\">\n       <use xlink:href=\"#DejaVuSans-31\"/>\n      </g>\n     </g>\n    </g>\n    <g id=\"ytick_13\">\n     <g id=\"line2d_31\">\n      <g>\n       <use style=\"stroke:#000000;stroke-width:0.8;\" x=\"20.5625\" xlink:href=\"#med5e45d0aa\" y=\"217.227273\"/>\n      </g>\n     </g>\n     <g id=\"text_31\">\n      <!-- 2 -->\n      <g transform=\"translate(7.2 221.026491)scale(0.1 -0.1)\">\n       <use xlink:href=\"#DejaVuSans-32\"/>\n      </g>\n     </g>\n    </g>\n    <g id=\"ytick_14\">\n     <g id=\"line2d_32\">\n      <g>\n       <use style=\"stroke:#000000;stroke-width:0.8;\" x=\"20.5625\" xlink:href=\"#med5e45d0aa\" y=\"241.936364\"/>\n      </g>\n     </g>\n     <g id=\"text_32\">\n      <!-- 3 -->\n      <g transform=\"translate(7.2 245.735582)scale(0.1 -0.1)\">\n       <use xlink:href=\"#DejaVuSans-33\"/>\n      </g>\n     </g>\n    </g>\n    <g id=\"ytick_15\">\n     <g id=\"line2d_33\">\n      <g>\n       <use style=\"stroke:#000000;stroke-width:0.8;\" x=\"20.5625\" xlink:href=\"#med5e45d0aa\" y=\"266.645455\"/>\n      </g>\n     </g>\n     <g id=\"text_33\">\n      <!-- 4 -->\n      <g transform=\"translate(7.2 270.444673)scale(0.1 -0.1)\">\n       <use xlink:href=\"#DejaVuSans-34\"/>\n      </g>\n     </g>\n    </g>\n   </g>\n   <g id=\"patch_13\">\n    <path d=\"M 20.5625 279 \nL 20.5625 155.454545 \n\" style=\"fill:none;stroke:#000000;stroke-linecap:square;stroke-linejoin:miter;stroke-width:0.8;\"/>\n   </g>\n   <g id=\"patch_14\">\n    <path d=\"M 324.926136 279 \nL 324.926136 155.454545 \n\" style=\"fill:none;stroke:#000000;stroke-linecap:square;stroke-linejoin:miter;stroke-width:0.8;\"/>\n   </g>\n   <g id=\"patch_15\">\n    <path d=\"M 20.5625 279 \nL 324.926136 279 \n\" style=\"fill:none;stroke:#000000;stroke-linecap:square;stroke-linejoin:miter;stroke-width:0.8;\"/>\n   </g>\n   <g id=\"patch_16\">\n    <path d=\"M 20.5625 155.454545 \nL 324.926136 155.454545 \n\" style=\"fill:none;stroke:#000000;stroke-linecap:square;stroke-linejoin:miter;stroke-width:0.8;\"/>\n   </g>\n  </g>\n  <g id=\"axes_4\">\n   <g id=\"patch_17\">\n    <path d=\"M 385.798864 279 \nL 690.1625 279 \nL 690.1625 155.454545 \nL 385.798864 155.454545 \nz\n\" style=\"fill:#ffffff;\"/>\n   </g>\n   <g clip-path=\"url(#pc521a30e02)\">\n    <image height=\"124\" id=\"imagee858b8974b\" transform=\"scale(1 -1)translate(0 -124)\" width=\"305\" x=\"385.798864\" xlink:href=\"data:image/png;base64,\niVBORw0KGgoAAAANSUhEUgAAATEAAAB8CAYAAAAB1IduAAAECklEQVR4nO3dP2+WZRjG4eu1b20LLdZIBAQqiRWVENJEZSEOuBkX4uCmqxOYODk7uJno5kcwsvgBdHCQhajRaAzGoAQqYNqiLX/a0vb1O1wdyJkcx37mfvL0za/Pdg8W3vtkVE2r891l1XNfrvXHVfXnuZn2duZa/9zlV7ba2xMfLfYPrqq/3j3W3j578WZ7e/WdQ+3tB29/1d5WVX1x/o32dnN22N4unxxrb8dX29Oqqrq7sN7eXnzt8/b2/IcX2tu5C7+3t1VVly8fb28f29XJAI+YiAHRRAyIJmJANBEDookYEE3EgGgiBkQTMSCaiAHRRAyIJmJANBEDookYEE3EgGgiBkQTMSCaiAHRRAyIJmJANBEDookYEE3EgGgiBkQbrj81aI9nf2vfu1uLZ/e1t1VVW8cetLdjVybb24lb4+1tDfrvuqpqsLOL8cTjj+TcsdrNQ1etnJhobwf9e47ryDf939eDA/13XVV172h///Iu/s4T//Zf2C+3+xcsV1XtPPGwvfUlBkQTMSCaiAHRRAyIJmJANBEDookYEE3EgGgiBkQTMSCaiAHRRAyIJmJANBEDookYEE3EgGgiBkQTMSCaiAHRRAyIJmJANBEDookYEE3EgGjDYf+O0Fqd72/HX/qvP66q0fWZ9vaf1zf7B2/3L8DdurHYP7eq9tyaa2/vnHqyvd272L8k+ej4cntbVTVzfbu9HdvoX9x775n+pb3TN9bb26qq6Wt72tuPl15ob4f3++961P+JVFXV9Gw/RL7EgGgiBkQTMSCaiAHRRAyIJmJANBEDookYEE3EgGgiBkQTMSCaiAHRRAyIJmJANBEDookYEE3EgGgiBkQTMSCaiAHRRAyIJmJANBEDog2f/rF/39vmvvH2dunF9rSqqg5e6m8Ho/5z3zzTP3fjzVf746paOt2/R/Hw1/1zV87db2/PTu3uDsbPfvi7vd2c29/ePtzb//9++3T/3siqqrX5/v2PG6Nhe3v1rf5dm2NXJtvbqqqdif7Flb7EgGgiBkQTMSCaiAHRRAyIJmJANBEDookYEE3EgGgiBkQTMSCaiAHRRAyIJmJANBEDookYEE3EgGgiBkQTMSCaiAHRRAyIJmJANBEDookYEG14Z75/6eX+n++2t9u/7mtvq6o2dzEfbPW3o6n+eOpG/31VVU0eGOuffau/He0M2tvvN9rTqqpaOXO4vV061X/u459ebW8nTh5pb6uq1hb6F8l+e/v59vbQd/1zD77/R3tbVfXTpf5z+xIDookYEE3EgGgiBkQTMSCaiAHRRAyIJmJANBEDookYEE3EgGgiBkQTMSCaiAHRRAyIJmJANBEDookYEE3EgGgiBkQTMSCaiAHRRAyIJmJAtP8BYW2NxrH/KRUAAAAASUVORK5CYII=\" y=\"-155\"/>\n   </g>\n   <g id=\"matplotlib.axis_7\">\n    <g id=\"xtick_19\">\n     <g id=\"line2d_34\">\n      <g>\n       <use style=\"stroke:#000000;stroke-width:0.8;\" x=\"393.407955\" xlink:href=\"#maf10aef322\" y=\"279\"/>\n      </g>\n     </g>\n     <g id=\"text_34\">\n      <!-- 0.0 -->\n      <g transform=\"translate(385.456392 293.598437)scale(0.1 -0.1)\">\n       <use xlink:href=\"#DejaVuSans-30\"/>\n       <use x=\"63.623047\" xlink:href=\"#DejaVuSans-2e\"/>\n       <use x=\"95.410156\" xlink:href=\"#DejaVuSans-30\"/>\n      </g>\n     </g>\n    </g>\n    <g id=\"xtick_20\">\n     <g id=\"line2d_35\">\n      <g>\n       <use style=\"stroke:#000000;stroke-width:0.8;\" x=\"431.453409\" xlink:href=\"#maf10aef322\" y=\"279\"/>\n      </g>\n     </g>\n     <g id=\"text_35\">\n      <!-- 2.5 -->\n      <g transform=\"translate(423.501847 293.598437)scale(0.1 -0.1)\">\n       <use xlink:href=\"#DejaVuSans-32\"/>\n       <use x=\"63.623047\" xlink:href=\"#DejaVuSans-2e\"/>\n       <use x=\"95.410156\" xlink:href=\"#DejaVuSans-35\"/>\n      </g>\n     </g>\n    </g>\n    <g id=\"xtick_21\">\n     <g id=\"line2d_36\">\n      <g>\n       <use style=\"stroke:#000000;stroke-width:0.8;\" x=\"469.498864\" xlink:href=\"#maf10aef322\" y=\"279\"/>\n      </g>\n     </g>\n     <g id=\"text_36\">\n      <!-- 5.0 -->\n      <g transform=\"translate(461.547301 293.598437)scale(0.1 -0.1)\">\n       <use xlink:href=\"#DejaVuSans-35\"/>\n       <use x=\"63.623047\" xlink:href=\"#DejaVuSans-2e\"/>\n       <use x=\"95.410156\" xlink:href=\"#DejaVuSans-30\"/>\n      </g>\n     </g>\n    </g>\n    <g id=\"xtick_22\">\n     <g id=\"line2d_37\">\n      <g>\n       <use style=\"stroke:#000000;stroke-width:0.8;\" x=\"507.544318\" xlink:href=\"#maf10aef322\" y=\"279\"/>\n      </g>\n     </g>\n     <g id=\"text_37\">\n      <!-- 7.5 -->\n      <g transform=\"translate(499.592756 293.598437)scale(0.1 -0.1)\">\n       <use xlink:href=\"#DejaVuSans-37\"/>\n       <use x=\"63.623047\" xlink:href=\"#DejaVuSans-2e\"/>\n       <use x=\"95.410156\" xlink:href=\"#DejaVuSans-35\"/>\n      </g>\n     </g>\n    </g>\n    <g id=\"xtick_23\">\n     <g id=\"line2d_38\">\n      <g>\n       <use style=\"stroke:#000000;stroke-width:0.8;\" x=\"545.589773\" xlink:href=\"#maf10aef322\" y=\"279\"/>\n      </g>\n     </g>\n     <g id=\"text_38\">\n      <!-- 10.0 -->\n      <g transform=\"translate(534.45696 293.598437)scale(0.1 -0.1)\">\n       <use xlink:href=\"#DejaVuSans-31\"/>\n       <use x=\"63.623047\" xlink:href=\"#DejaVuSans-30\"/>\n       <use x=\"127.246094\" xlink:href=\"#DejaVuSans-2e\"/>\n       <use x=\"159.033203\" xlink:href=\"#DejaVuSans-30\"/>\n      </g>\n     </g>\n    </g>\n    <g id=\"xtick_24\">\n     <g id=\"line2d_39\">\n      <g>\n       <use style=\"stroke:#000000;stroke-width:0.8;\" x=\"583.635227\" xlink:href=\"#maf10aef322\" y=\"279\"/>\n      </g>\n     </g>\n     <g id=\"text_39\">\n      <!-- 12.5 -->\n      <g transform=\"translate(572.502415 293.598437)scale(0.1 -0.1)\">\n       <use xlink:href=\"#DejaVuSans-31\"/>\n       <use x=\"63.623047\" xlink:href=\"#DejaVuSans-32\"/>\n       <use x=\"127.246094\" xlink:href=\"#DejaVuSans-2e\"/>\n       <use x=\"159.033203\" xlink:href=\"#DejaVuSans-35\"/>\n      </g>\n     </g>\n    </g>\n    <g id=\"xtick_25\">\n     <g id=\"line2d_40\">\n      <g>\n       <use style=\"stroke:#000000;stroke-width:0.8;\" x=\"621.680682\" xlink:href=\"#maf10aef322\" y=\"279\"/>\n      </g>\n     </g>\n     <g id=\"text_40\">\n      <!-- 15.0 -->\n      <g transform=\"translate(610.547869 293.598437)scale(0.1 -0.1)\">\n       <use xlink:href=\"#DejaVuSans-31\"/>\n       <use x=\"63.623047\" xlink:href=\"#DejaVuSans-35\"/>\n       <use x=\"127.246094\" xlink:href=\"#DejaVuSans-2e\"/>\n       <use x=\"159.033203\" xlink:href=\"#DejaVuSans-30\"/>\n      </g>\n     </g>\n    </g>\n    <g id=\"xtick_26\">\n     <g id=\"line2d_41\">\n      <g>\n       <use style=\"stroke:#000000;stroke-width:0.8;\" x=\"659.726136\" xlink:href=\"#maf10aef322\" y=\"279\"/>\n      </g>\n     </g>\n     <g id=\"text_41\">\n      <!-- 17.5 -->\n      <g transform=\"translate(648.593324 293.598437)scale(0.1 -0.1)\">\n       <use xlink:href=\"#DejaVuSans-31\"/>\n       <use x=\"63.623047\" xlink:href=\"#DejaVuSans-37\"/>\n       <use x=\"127.246094\" xlink:href=\"#DejaVuSans-2e\"/>\n       <use x=\"159.033203\" xlink:href=\"#DejaVuSans-35\"/>\n      </g>\n     </g>\n    </g>\n   </g>\n   <g id=\"matplotlib.axis_8\">\n    <g id=\"ytick_16\">\n     <g id=\"line2d_42\">\n      <g>\n       <use style=\"stroke:#000000;stroke-width:0.8;\" x=\"385.798864\" xlink:href=\"#med5e45d0aa\" y=\"167.809091\"/>\n      </g>\n     </g>\n     <g id=\"text_42\">\n      <!-- 0 -->\n      <g transform=\"translate(372.436364 171.60831)scale(0.1 -0.1)\">\n       <use xlink:href=\"#DejaVuSans-30\"/>\n      </g>\n     </g>\n    </g>\n    <g id=\"ytick_17\">\n     <g id=\"line2d_43\">\n      <g>\n       <use style=\"stroke:#000000;stroke-width:0.8;\" x=\"385.798864\" xlink:href=\"#med5e45d0aa\" y=\"192.518182\"/>\n      </g>\n     </g>\n     <g id=\"text_43\">\n      <!-- 1 -->\n      <g transform=\"translate(372.436364 196.317401)scale(0.1 -0.1)\">\n       <use xlink:href=\"#DejaVuSans-31\"/>\n      </g>\n     </g>\n    </g>\n    <g id=\"ytick_18\">\n     <g id=\"line2d_44\">\n      <g>\n       <use style=\"stroke:#000000;stroke-width:0.8;\" x=\"385.798864\" xlink:href=\"#med5e45d0aa\" y=\"217.227273\"/>\n      </g>\n     </g>\n     <g id=\"text_44\">\n      <!-- 2 -->\n      <g transform=\"translate(372.436364 221.026491)scale(0.1 -0.1)\">\n       <use xlink:href=\"#DejaVuSans-32\"/>\n      </g>\n     </g>\n    </g>\n    <g id=\"ytick_19\">\n     <g id=\"line2d_45\">\n      <g>\n       <use style=\"stroke:#000000;stroke-width:0.8;\" x=\"385.798864\" xlink:href=\"#med5e45d0aa\" y=\"241.936364\"/>\n      </g>\n     </g>\n     <g id=\"text_45\">\n      <!-- 3 -->\n      <g transform=\"translate(372.436364 245.735582)scale(0.1 -0.1)\">\n       <use xlink:href=\"#DejaVuSans-33\"/>\n      </g>\n     </g>\n    </g>\n    <g id=\"ytick_20\">\n     <g id=\"line2d_46\">\n      <g>\n       <use style=\"stroke:#000000;stroke-width:0.8;\" x=\"385.798864\" xlink:href=\"#med5e45d0aa\" y=\"266.645455\"/>\n      </g>\n     </g>\n     <g id=\"text_46\">\n      <!-- 4 -->\n      <g transform=\"translate(372.436364 270.444673)scale(0.1 -0.1)\">\n       <use xlink:href=\"#DejaVuSans-34\"/>\n      </g>\n     </g>\n    </g>\n   </g>\n   <g id=\"patch_18\">\n    <path d=\"M 385.798864 279 \nL 385.798864 155.454545 \n\" style=\"fill:none;stroke:#000000;stroke-linecap:square;stroke-linejoin:miter;stroke-width:0.8;\"/>\n   </g>\n   <g id=\"patch_19\">\n    <path d=\"M 690.1625 279 \nL 690.1625 155.454545 \n\" style=\"fill:none;stroke:#000000;stroke-linecap:square;stroke-linejoin:miter;stroke-width:0.8;\"/>\n   </g>\n   <g id=\"patch_20\">\n    <path d=\"M 385.798864 279 \nL 690.1625 279 \n\" style=\"fill:none;stroke:#000000;stroke-linecap:square;stroke-linejoin:miter;stroke-width:0.8;\"/>\n   </g>\n   <g id=\"patch_21\">\n    <path d=\"M 385.798864 155.454545 \nL 690.1625 155.454545 \n\" style=\"fill:none;stroke:#000000;stroke-linecap:square;stroke-linejoin:miter;stroke-width:0.8;\"/>\n   </g>\n  </g>\n </g>\n <defs>\n  <clipPath id=\"pcb93e2afbc\">\n   <rect height=\"123.545455\" width=\"304.363636\" x=\"20.5625\" y=\"7.2\"/>\n  </clipPath>\n  <clipPath id=\"pcf9773de87\">\n   <rect height=\"123.545455\" width=\"304.363636\" x=\"385.798864\" y=\"7.2\"/>\n  </clipPath>\n  <clipPath id=\"p13ae618fcb\">\n   <rect height=\"123.545455\" width=\"304.363636\" x=\"20.5625\" y=\"155.454545\"/>\n  </clipPath>\n  <clipPath id=\"pc521a30e02\">\n   <rect height=\"123.545455\" width=\"304.363636\" x=\"385.798864\" y=\"155.454545\"/>\n  </clipPath>\n </defs>\n</svg>\n",
      "text/plain": [
       "<Figure size 864x360 with 4 Axes>"
      ]
     },
     "metadata": {
      "needs_background": "light"
     },
     "output_type": "display_data"
    }
   ],
   "source": [
    "fig = plt.figure(figsize=(12,5))\n",
    "plt.subplot(2,2,1)\n",
    "plt.imshow(Uhat[1,:,:].T,aspect='auto')\n",
    "plt.subplot(2,2,2)\n",
    "plt.imshow(Vhat[1,:,:],aspect='auto')\n",
    "plt.subplot(2,2,3)\n",
    "plt.imshow(Uhat[0,:,:].T,aspect='auto')\n",
    "plt.subplot(2,2,4)\n",
    "plt.imshow(Vhat[0,:,:],aspect='auto')\n"
   ]
  },
  {
   "cell_type": "code",
   "execution_count": 6,
   "id": "07ae3db4",
   "metadata": {},
   "outputs": [
    {
     "data": {
      "text/plain": [
       "array([[1.        , 0.57891748, 0.99999982, 0.9807568 , 0.98080068,\n",
       "        0.99999981, 0.98075838, 0.99999992, 0.99999993, 0.99999979],\n",
       "       [0.95832864, 1.        , 0.95834318, 0.95473639, 0.95472288,\n",
       "        0.95834522, 0.95473552, 0.95836795, 0.95836188, 0.95834352],\n",
       "       [0.99999982, 0.57887732, 1.        , 0.98083111, 0.98087488,\n",
       "        1.        , 0.98083269, 0.99999967, 0.99999969, 1.        ],\n",
       "       [0.9807568 , 0.58221233, 0.98083111, 1.        , 0.99999994,\n",
       "        0.98083261, 1.        , 0.98071584, 0.98072067, 0.98083756],\n",
       "       [0.98080068, 0.58219934, 0.98087488, 0.99999994, 1.        ,\n",
       "        0.98087637, 0.99999994, 0.98075973, 0.98076455, 0.98088132],\n",
       "       [0.99999981, 0.57887829, 1.        , 0.98083261, 0.98087637,\n",
       "        1.        , 0.98083418, 0.99999967, 0.99999969, 1.        ],\n",
       "       [0.98075838, 0.5822138 , 0.98083269, 1.        , 0.99999994,\n",
       "        0.98083418, 1.        , 0.98071742, 0.98072224, 0.98083914],\n",
       "       [0.99999992, 0.57892897, 0.99999967, 0.98071584, 0.98075973,\n",
       "        0.99999967, 0.98071742, 1.        , 1.        , 0.99999964],\n",
       "       [0.99999993, 0.57892357, 0.99999969, 0.98072067, 0.98076455,\n",
       "        0.99999969, 0.98072224, 1.        , 1.        , 0.99999966],\n",
       "       [0.99999979, 0.57887615, 1.        , 0.98083756, 0.98088132,\n",
       "        1.        , 0.98083914, 0.99999964, 0.99999966, 1.        ]])"
      ]
     },
     "execution_count": 6,
     "metadata": {},
     "output_type": "execute_result"
    }
   ],
   "source": [
    "vmatch=np.empty((num,num))\n",
    "umatch=np.empty((num,num))\n",
    "for i in range(num):\n",
    "    for j in range(num):\n",
    "        vmatch[i,j]=(Vhat[i,:,:] @ Vhat[j,:,:].T).max(axis=0).mean()\n",
    "        umatch[i,j]=(Uhat[i,:,:].T @ Uhat[j,:,:]).max(axis=0).mean()\n",
    "vmatch"
   ]
  },
  {
   "cell_type": "markdown",
   "id": "ca7d7591",
   "metadata": {},
   "source": [
    "## Now try the same on a hemisphere "
   ]
  },
  {
   "cell_type": "code",
   "execution_count": null,
   "id": "d5cedc7c",
   "metadata": {},
   "outputs": [],
   "source": [
    "# Load all surfaces \n",
    "flatsurf,inflsurf = load_surf()"
   ]
  },
  {
   "cell_type": "code",
   "execution_count": null,
   "id": "f30793ca",
   "metadata": {},
   "outputs": [],
   "source": [
    "# Plot s02 task maps \n",
    "taskmap,colname,colmap = load_wcon('s02')"
   ]
  },
  {
   "cell_type": "code",
   "execution_count": null,
   "id": "8aa9b63a",
   "metadata": {},
   "outputs": [],
   "source": [
    "# Load the task maps and center \n",
    "YL = np.vstack(taskmap[0].agg_data())\n",
    "YR = np.vstack(taskmap[1].agg_data())\n",
    "YL = YL-YL.mean(axis=0)\n",
    "YR = YR-YR.mean(axis=0)\n",
    "YL[np.isnan(YL)]=0\n",
    "YR[np.isnan(YR)]=0"
   ]
  },
  {
   "cell_type": "code",
   "execution_count": null,
   "id": "367b741a",
   "metadata": {},
   "outputs": [],
   "source": [
    "snn1 = DictionaryLearning(n_components=10, transform_algorithm='lasso_cd',random_state=33,positive_code=True,fit_algorithm='cd',transform_max_iter=2000)\n",
    "snn1.fit(YL.T)"
   ]
  },
  {
   "cell_type": "code",
   "execution_count": null,
   "id": "77f0cb5b",
   "metadata": {},
   "outputs": [],
   "source": [
    "U = snn.transform(YL.T)\n",
    "V = snn.components_"
   ]
  },
  {
   "cell_type": "code",
   "execution_count": null,
   "id": "92188736",
   "metadata": {},
   "outputs": [],
   "source": [
    "a=plt.hist(np.sum(U,axis=1),bins=50)"
   ]
  },
  {
   "cell_type": "code",
   "execution_count": null,
   "id": "013ca7bf",
   "metadata": {},
   "outputs": [],
   "source": [
    "label = np.argmax(U,axis=1)\n",
    "length = np.sum(U,axis=1)\n",
    "fig = plt.figure(figsize=(12,5))\n",
    "ax1 = plt.subplot(1,2,1)\n",
    "ax2 = surf.plot.plotmap(label+1,flatsurf[0],overlay_type='label',cmap='Paired')\n",
    "ax3 = plt.subplot(1,2,2)\n",
    "ax4 = surf.plot.plotmap(np.sqrt(length),flatsurf[0],overlay_type='func')\n",
    "plt.show()"
   ]
  },
  {
   "cell_type": "code",
   "execution_count": null,
   "id": "8bcdbac4",
   "metadata": {},
   "outputs": [],
   "source": [
    "U1 = snn1.transform(YL.T)\n",
    "V1 = snn1.components_\n",
    "label = np.argmax(U1,axis=1)\n",
    "length = np.sum(U1,axis=1)\n",
    "fig = plt.figure(figsize=(12,5))\n",
    "ax1 = plt.subplot(1,2,1)\n",
    "ax2 = surf.plot.plotmap(label+1,flatsurf[0],overlay_type='label',cmap='Paired')\n",
    "ax3 = plt.subplot(1,2,2)\n",
    "ax4 = surf.plot.plotmap(np.sqrt(length),flatsurf[0],overlay_type='func')\n",
    "plt.show()"
   ]
  },
  {
   "cell_type": "code",
   "execution_count": null,
   "id": "4a9f8402",
   "metadata": {},
   "outputs": [],
   "source": [
    "V- V1"
   ]
  }
 ],
 "metadata": {
  "interpreter": {
   "hash": "82c9595c6ac3df5bed1366f4aa85323e4ec1b3448185f6be6e163d2b6e222f49"
  },
  "kernelspec": {
   "display_name": "Python 3.8.5 64-bit ('base': conda)",
   "name": "python3"
  },
  "language_info": {
   "codemirror_mode": {
    "name": "ipython",
    "version": 3
   },
   "file_extension": ".py",
   "mimetype": "text/x-python",
   "name": "python",
   "nbconvert_exporter": "python",
   "pygments_lexer": "ipython3",
   "version": "3.8.5"
  }
 },
 "nbformat": 4,
 "nbformat_minor": 5
}
