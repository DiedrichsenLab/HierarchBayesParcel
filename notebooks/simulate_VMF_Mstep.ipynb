{
 "cells": [
  {
   "cell_type": "markdown",
   "metadata": {
    "collapsed": true
   },
   "source": [
    "# Quick test of different ways of estimating Kappas across subejcts and parcels\n",
    "\n"
   ]
  },
  {
   "cell_type": "code",
   "execution_count": 14,
   "metadata": {},
   "outputs": [
    {
     "name": "stdout",
     "output_type": "stream",
     "text": [
      "The autoreload extension is already loaded. To reload it, use:\n",
      "  %reload_ext autoreload\n"
     ]
    }
   ],
   "source": [
    "# dependencies\n",
    "%load_ext autoreload\n",
    "%autoreload 2 \n",
    "import os\n",
    "import sys \n",
    "sys.path.append(os.path.abspath('..'))\n",
    "\n",
    "import numpy as np\n",
    "import torch as pt\n",
    "import matplotlib.pyplot as plt\n",
    "from copy import copy,deepcopy\n",
    "\n",
    "import HierarchBayesParcel.emissions as em\n",
    "import HierarchBayesParcel.arrangements as ar\n"
   ]
  },
  {
   "cell_type": "markdown",
   "metadata": {},
   "source": [
    "## make some artifical data"
   ]
  },
  {
   "cell_type": "code",
   "execution_count": 15,
   "metadata": {},
   "outputs": [],
   "source": [
    "\n",
    "n_subj = 4\n",
    "P = 10\n",
    "N = 10\n",
    "K = 5\n",
    "U = pt.randint(low=0, high=K, size=(n_subj, P))\n",
    "U_hat = ar.expand_mn(U,K)\n",
    "emission_model = em.MixVMF(K, N, P, n_subj)\n",
    "emission_model.kappa=pt.tensor(10)\n",
    "Y = emission_model.sample(U)"
   ]
  },
  {
   "cell_type": "code",
   "execution_count": 19,
   "metadata": {},
   "outputs": [
    {
     "data": {
      "text/plain": [
       "tensor(13.8426)"
      ]
     },
     "execution_count": 19,
     "metadata": {},
     "output_type": "execute_result"
    }
   ],
   "source": [
    "m = deepcopy(emission_model)\n",
    "m.random_params()"
   ]
  },
  {
   "cell_type": "markdown",
   "metadata": {},
   "source": [
    "## Do an M-step by hand:"
   ]
  },
  {
   "cell_type": "code",
   "execution_count": 21,
   "metadata": {
    "scrolled": true
   },
   "outputs": [],
   "source": [
    "JU = pt.sum(U_hat,dim=2)   # (num_sub, K)\n",
    " # Calculate YU = \\sum_i\\sum_k<u_i^k>y_i # (num_sub, N, K)\n",
    "YU = pt.matmul(Y, pt.transpose(U_hat, 1, 2)) \n",
    "\n",
    "# If the subjects are weighted differently\n",
    "r_norm2 = pt.sum(YU ** 2, dim=1, keepdim=True) # (num_sub, 1, K)\n"
   ]
  },
  {
   "cell_type": "code",
   "execution_count": 26,
   "metadata": {},
   "outputs": [
    {
     "data": {
      "text/plain": [
       "tensor([[3., 3., 1., 2., 1.],\n",
       "        [1., 3., 3., 3., 0.],\n",
       "        [1., 1., 3., 3., 2.],\n",
       "        [2., 2., 1., 1., 4.]])"
      ]
     },
     "execution_count": 26,
     "metadata": {},
     "output_type": "execute_result"
    }
   ],
   "source": [
    "JU"
   ]
  }
 ],
 "metadata": {
  "kernelspec": {
   "display_name": "Python 3 (ipykernel)",
   "language": "python",
   "name": "python3"
  },
  "language_info": {
   "codemirror_mode": {
    "name": "ipython",
    "version": 3
   },
   "file_extension": ".py",
   "mimetype": "text/x-python",
   "name": "python",
   "nbconvert_exporter": "python",
   "pygments_lexer": "ipython3",
   "version": "3.8.5"
  }
 },
 "nbformat": 4,
 "nbformat_minor": 1
}
