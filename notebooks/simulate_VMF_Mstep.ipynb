{
 "cells": [
  {
   "cell_type": "markdown",
   "metadata": {
    "collapsed": true
   },
   "source": [
    "# Quick test of different ways of estimating Kappas across subejcts and parcels\n",
    "\n"
   ]
  },
  {
   "cell_type": "code",
   "execution_count": 1,
   "metadata": {},
   "outputs": [],
   "source": [
    "# dependencies\n",
    "%load_ext autoreload\n",
    "%autoreload 2\n",
    "import os\n",
    "import sys\n",
    "sys.path.append(os.path.abspath('..'))\n",
    "\n",
    "import numpy as np\n",
    "import torch as pt\n",
    "import matplotlib.pyplot as plt\n",
    "from copy import copy,deepcopy\n",
    "\n",
    "import HierarchBayesParcel.emissions as em\n",
    "import HierarchBayesParcel.arrangements as ar\n"
   ]
  },
  {
   "cell_type": "markdown",
   "metadata": {},
   "source": [
    "## make some artifical data"
   ]
  },
  {
   "cell_type": "code",
   "execution_count": 2,
   "metadata": {},
   "outputs": [],
   "source": [
    "\n",
    "n_subj = 4\n",
    "P = 1000\n",
    "N = 10\n",
    "K = 5\n",
    "U = pt.randint(low=0, high=K, size=(n_subj, P))\n",
    "U_hat = ar.expand_mn(U,K)\n",
    "emission_model = em.MixVMF(K, N, P, n_subj)\n",
    "emission_model.kappa=pt.tensor(20)\n",
    "Y = emission_model.sample(U)"
   ]
  },
  {
   "cell_type": "code",
   "execution_count": 3,
   "metadata": {},
   "outputs": [],
   "source": [
    "m = deepcopy(emission_model)\n",
    "m.random_params()"
   ]
  },
  {
   "cell_type": "markdown",
   "metadata": {},
   "source": [
    "## Do an M-step by hand (original)"
   ]
  },
  {
   "cell_type": "code",
   "execution_count": 8,
   "metadata": {
    "scrolled": true
   },
   "outputs": [
    {
     "data": {
      "text/plain": [
       "tensor([[[20997.5862, 26533.2157, 26438.9563, 26213.7248, 26459.2808]],\n",
       "\n",
       "        [[20087.1616, 21316.7961, 30317.8154, 27559.5107, 27791.7369]],\n",
       "\n",
       "        [[28180.9209, 19115.2830, 28567.6862, 28631.3266, 23381.9699]],\n",
       "\n",
       "        [[18605.6972, 29121.6877, 27025.2887, 27579.1671, 24978.5842]]])"
      ]
     },
     "execution_count": 8,
     "metadata": {},
     "output_type": "execute_result"
    }
   ],
   "source": [
    "JU = pt.sum(U_hat,dim=2)   # (num_sub, K)\n",
    " # Calculate YU = \\sum_i\\sum_k<u_i^k>y_i # (num_sub, N, K)\n",
    "YU = pt.matmul(Y, pt.transpose(U_hat, 1, 2))\n",
    "\n",
    "# If the subjects are weighted differently\n",
    "r_norm2 = pt.sum(YU ** 2, dim=1, keepdim=True) # (num_sub, 1, K)\n"
   ]
  },
  {
   "cell_type": "code",
   "execution_count": 9,
   "metadata": {},
   "outputs": [
    {
     "data": {
      "text/plain": [
       "tensor([[0.7962, 0.7985, 0.7893, 0.7937, 0.7974],\n",
       "        [0.7830, 0.7978, 0.8024, 0.7905, 0.7976],\n",
       "        [0.8032, 0.7992, 0.7861, 0.8019, 0.7964],\n",
       "        [0.8024, 0.7864, 0.8019, 0.7984, 0.7902]])"
      ]
     },
     "execution_count": 9,
     "metadata": {},
     "output_type": "execute_result"
    }
   ],
   "source": [
    "pt.sqrt(r_norm2.squeeze())/JU"
   ]
  },
  {
   "cell_type": "code",
   "execution_count": 6,
   "metadata": {},
   "outputs": [
    {
     "name": "stdout",
     "output_type": "stream",
     "text": [
      "tensor([[0.7940, 0.7970, 0.7973, 0.7970, 0.7973]])\n"
     ]
    }
   ],
   "source": [
    "# Overall V estimation\n",
    "V = pt.sum(YU,dim=0) / JU.sum(dim=0, keepdim=True)\n",
    "print(pt.sqrt(pt.sum(V**2, dim=0, keepdim=True)))"
   ]
  },
  {
   "cell_type": "code",
   "execution_count": 7,
   "metadata": {},
   "outputs": [
    {
     "name": "stdout",
     "output_type": "stream",
     "text": [
      "tensor([[0.7938, 0.7970, 0.7974, 0.7971, 0.7974]])\n"
     ]
    }
   ],
   "source": [
    "# Subject-equal weighting V estimation\n",
    "V=pt.nanmean(YU / JU.unsqueeze(1),dim=0)\n",
    "print(pt.sqrt(pt.sum(V**2, dim=0, keepdim=True)))"
   ]
  },
  {
   "cell_type": "code",
   "execution_count": 8,
   "metadata": {},
   "outputs": [
    {
     "name": "stdout",
     "output_type": "stream",
     "text": [
      "tensor(0.7965) tensor(20.4098)\n"
     ]
    }
   ],
   "source": [
    "# Overall kappa\n",
    "yu = pt.sum(YU,dim=0)\n",
    "r=pt.sum(pt.sqrt(pt.sum(yu**2, dim=0)))/ pt.sum(JU)\n",
    "kappa = (r*N - r**3) / (1 - r**2)\n",
    "print(r, kappa)"
   ]
  },
  {
   "cell_type": "code",
   "execution_count": 9,
   "metadata": {},
   "outputs": [
    {
     "name": "stdout",
     "output_type": "stream",
     "text": [
      "tensor([0.7955, 0.7984, 0.7941, 0.8011]) tensor([20.2941, 20.6166, 20.1457, 20.9284])\n"
     ]
    }
   ],
   "source": [
    "# Subject-specific kappa\n",
    "r = pt.sum(pt.sqrt(pt.sum(YU**2, dim=1)),dim=1)/pt.sum(JU,dim=1)\n",
    "kappa = (r*N - r**3) / (1 - r**2)\n",
    "print(r, kappa)"
   ]
  },
  {
   "cell_type": "code",
   "execution_count": 10,
   "metadata": {},
   "outputs": [
    {
     "name": "stdout",
     "output_type": "stream",
     "text": [
      "tensor([0.7940, 0.7970, 0.7973, 0.7970, 0.7973]) tensor([20.1350, 20.4602, 20.4958, 20.4650, 20.4911])\n"
     ]
    }
   ],
   "source": [
    "# Region-specfic kappa\n",
    "yu = pt.sum(YU,dim=0)\n",
    "r=pt.sqrt(pt.sum(yu**2, dim=0))/ pt.sum(JU,dim=0)\n",
    "kappa = (r*N - r**3) / (1 - r**2)\n",
    "print(r, kappa)"
   ]
  },
  {
   "cell_type": "code",
   "execution_count": 11,
   "metadata": {},
   "outputs": [
    {
     "name": "stdout",
     "output_type": "stream",
     "text": [
      "tensor([[0.7905, 0.7955, 0.7899, 0.7989, 0.8020],\n",
      "        [0.7998, 0.7952, 0.8021, 0.7979, 0.7967],\n",
      "        [0.7877, 0.7896, 0.8044, 0.7955, 0.7940],\n",
      "        [0.8002, 0.8098, 0.7962, 0.7996, 0.7997]]) tensor([[19.7541, 20.2950, 19.6932, 20.6769, 21.0319],\n",
      "        [20.7729, 20.2561, 21.0469, 20.5564, 20.4271],\n",
      "        [19.4635, 19.6669, 21.3143, 20.2994, 20.1252],\n",
      "        [20.8219, 21.9854, 20.3734, 20.7525, 20.7627]])\n"
     ]
    }
   ],
   "source": [
    "# Region and subject-specific kappa\n",
    "r=pt.sqrt(pt.sum(YU**2, dim=1))/ JU\n",
    "kappa = (r*N - r**3) / (1 - r**2)\n",
    "print(r, kappa)"
   ]
  },
  {
   "cell_type": "markdown",
   "metadata": {},
   "source": [
    "## Do the M-step by hand with using the actual V-vectors"
   ]
  },
  {
   "cell_type": "code",
   "execution_count": 40,
   "metadata": {},
   "outputs": [
    {
     "name": "stdout",
     "output_type": "stream",
     "text": [
      "tensor(0.7947) tensor(0.7947) tensor(0.7947)\n"
     ]
    },
    {
     "data": {
      "text/plain": [
       "tensor([[-0.0287,  0.1604, -0.2923, -0.0198, -0.4117],\n",
       "        [-0.0873, -0.5630, -0.1184,  0.4544,  0.2736],\n",
       "        [ 0.0101, -0.3681,  0.4004, -0.3341,  0.1215],\n",
       "        [-0.2620,  0.2173, -0.2429, -0.0793,  0.0644],\n",
       "        [-0.2914,  0.0079, -0.1076,  0.1028, -0.1801],\n",
       "        [-0.2599,  0.1698, -0.0827,  0.1002,  0.1537],\n",
       "        [-0.1356,  0.1620, -0.3526, -0.3068, -0.0989],\n",
       "        [ 0.5308,  0.0057,  0.0278, -0.1587,  0.1548],\n",
       "        [ 0.2566,  0.0550, -0.3629, -0.0148, -0.3688],\n",
       "        [-0.1923, -0.2175, -0.1913,  0.4098,  0.3767]])"
      ]
     },
     "execution_count": 40,
     "metadata": {},
     "output_type": "execute_result"
    }
   ],
   "source": [
    "yu = pt.sum(YU,dim=0)\n",
    "v = pt.sum(YU, dim=0) / pt.sum(JU,dim=0)\n",
    "V = v/pt.sqrt(pt.sum(v**2, dim=0, keepdim=True))\n",
    "r1 = pt.sum(pt.sqrt(pt.sum(yu**2, dim=0)))/ pt.sum(JU)\n",
    "r2 = pt.mean(pt.sqrt(pt.sum(v**2, dim=0)))\n",
    "r3 = pt.mean(pt.sum(v*V,dim=0))\n",
    "print(r1,r2,r3)"
   ]
  }
 ],
 "metadata": {
  "kernelspec": {
   "display_name": "Python 3 (ipykernel)",
   "language": "python",
   "name": "python3"
  },
  "language_info": {
   "codemirror_mode": {
    "name": "ipython",
    "version": 3
   },
   "file_extension": ".py",
   "mimetype": "text/x-python",
   "name": "python",
   "nbconvert_exporter": "python",
   "pygments_lexer": "ipython3",
   "version": "3.8.5"
  }
 },
 "nbformat": 4,
 "nbformat_minor": 1
}
